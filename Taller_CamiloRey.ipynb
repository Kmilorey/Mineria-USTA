{
  "nbformat": 4,
  "nbformat_minor": 0,
  "metadata": {
    "kernelspec": {
      "display_name": "Python 3",
      "language": "python",
      "name": "python3"
    },
    "language_info": {
      "codemirror_mode": {
        "name": "ipython",
        "version": 3
      },
      "file_extension": ".py",
      "mimetype": "text/x-python",
      "name": "python",
      "nbconvert_exporter": "python",
      "pygments_lexer": "ipython3",
      "version": "3.7.0"
    },
    "colab": {
      "provenance": [],
      "collapsed_sections": []
    }
  },
  "cells": [
    {
      "cell_type": "markdown",
      "source": [
        "# Camilo Rey\n",
        "# Árbol de decisión\n",
        "\n",
        "Según el siguiente árbol de decisión, analice y responda:\n",
        "\n",
        "![Obama-Clinton decision tree](https://github.com/justmarkham/DAT8/raw/226791169b1cc6df8e8845c12e34e748d5ffaa85/notebooks/images/obama_clinton_tree.jpg)"
      ],
      "metadata": {
        "id": "gqDPEMhZyKFy"
      }
    },
    {
      "cell_type": "markdown",
      "source": [
        "## 1.1 ¿Qué son las observaciones? ¿Cuántas observaciones hay?\n"
      ],
      "metadata": {
        "id": "3dk2ih2FyT8i"
      }
    },
    {
      "cell_type": "markdown",
      "source": [
        "Las observaciones son los condados de estados unidos y en total para el árbol se tuvieron en cuenta 2241 condados."
      ],
      "metadata": {
        "id": "7bcxZCY3yxv5"
      }
    },
    {
      "cell_type": "code",
      "source": [
        "48 + 13 + 56 +35 + 201 + 83 + 52 + 25 + 182 + 79 + 185 + 36 + 383 + 70 + 704 + 89"
      ],
      "metadata": {
        "colab": {
          "base_uri": "https://localhost:8080/"
        },
        "id": "K48nJVuvB9ml",
        "outputId": "3ba3cbd1-51b1-453d-ad75-f5c3a386587f"
      },
      "execution_count": 2,
      "outputs": [
        {
          "output_type": "execute_result",
          "data": {
            "text/plain": [
              "2241"
            ]
          },
          "metadata": {},
          "execution_count": 2
        }
      ]
    },
    {
      "cell_type": "markdown",
      "source": [
        "## 1.2 ¿Cuál es la variable de respuesta?\n"
      ],
      "metadata": {
        "id": "bl0Y4beuyaie"
      }
    },
    {
      "cell_type": "markdown",
      "source": [
        "La variable respuesta es el candidato que gano en los condados, que puede ser Clinton o Obama"
      ],
      "metadata": {
        "id": "SGhpIhmDy4eS"
      }
    },
    {
      "cell_type": "markdown",
      "source": [
        "## 1.3 ¿Cuáles son las características?¿Cuál es la característica más predictiva?\n"
      ],
      "metadata": {
        "id": "eZD45NjhydqE"
      }
    },
    {
      "cell_type": "markdown",
      "source": [
        "Las características son:\n",
        "- % de población negra\n",
        "- Tasa de graduación\n",
        "- Ubicación del condado\n",
        "- % de hogares pobres\n",
        "- densidad poblacional\n",
        "- Si es \"muy republicano\" o no\n",
        "\n",
        "Donde el % de población negra es la característica mas importante dentro del arbol de decisión, puesto que es la característica con la que se inicia el arbol de decisión."
      ],
      "metadata": {
        "id": "lnLygKaty48_"
      }
    },
    {
      "cell_type": "markdown",
      "source": [
        "## 1.4 ¿Cuál es la predicción de clase para el siguiente condado con los siguientes datos: 15% de afroamericanos, 90% de tasa de graduación en la escuela secundaria, ubicado en el Sur, alta pobreza, alta densidad de población?\n"
      ],
      "metadata": {
        "id": "XdVVxJvTymo1"
      }
    },
    {
      "cell_type": "markdown",
      "source": [
        "Según las particularidades de ese condado se predice que el ganador es Obama."
      ],
      "metadata": {
        "id": "VrCCs9WRy5pM"
      }
    },
    {
      "cell_type": "markdown",
      "source": [
        "## 1.5 ¿Cuál es el chance predicha para ese mismo condado anteriormente descrito?"
      ],
      "metadata": {
        "id": "a3U8yhpFyoXH"
      }
    },
    {
      "cell_type": "markdown",
      "source": [
        "El chance predicho es de 5.138, La probabilidad de que gane Obama en ese condado en un poco mas de 5 veces la probabilidad de que gane su contrincante."
      ],
      "metadata": {
        "id": "DH6TO61ky6SL"
      }
    },
    {
      "cell_type": "code",
      "source": [
        "185/36"
      ],
      "metadata": {
        "colab": {
          "base_uri": "https://localhost:8080/"
        },
        "id": "t4r6wkrKD6OQ",
        "outputId": "0cf0fa2b-7e58-4137-94ed-f3f626931e60"
      },
      "execution_count": 3,
      "outputs": [
        {
          "output_type": "execute_result",
          "data": {
            "text/plain": [
              "5.138888888888889"
            ]
          },
          "metadata": {},
          "execution_count": 3
        }
      ]
    },
    {
      "cell_type": "markdown",
      "metadata": {
        "id": "goh8XqyWQwHS"
      },
      "source": [
        "## SVM\n",
        "\n",
        "\n",
        "Para esta tarea consideramos un conjunto de observaciones sobre una serie de variedades de vino tinto y blanco que implican sus propiedades químicas y su clasificación por parte de los catadores. La industria del vino ha experimentado un gran crecimiento en los últimos tiempos debido al aumento del consumo social. El precio del vino depende de un concepto bastante abstracto de apreciación del vino por parte de los catadores, cuya opinión puede tener un alto grado de variabilidad. El precio del vino depende en cierta medida de este factor tan volátil. Otro factor clave en la certificación y evaluación de la calidad del vino son las pruebas fisicoquímicas, que se realizan en laboratorio y tienen en cuenta factores como la acidez, el nivel de pH, la presencia de azúcar y otras propiedades químicas. Para el mercado del vino, sería interesante que la calidad humana de la cata pudiera relacionarse con las propiedades químicas del vino para que el proceso de certificación y evaluación de la calidad estuviera más controlado.\n",
        "\n",
        "Se dispone de dos conjuntos de datos, uno de los cuales se refiere al vino tinto y cuenta con 1.599 variedades diferentes, y el otro, al vino blanco, con 4.898 variedades. Todos los vinos se producen en una zona concreta de Portugal. Se recogen datos sobre 12 propiedades diferentes de los vinos, una de las cuales es la calidad, basada en datos sensoriales, y el resto son propiedades químicas de los vinos, como la densidad, la acidez, el contenido de alcohol, etc. Todas las propiedades químicas de los vinos son variables continuas. La calidad es una variable ordinal con una clasificación posible de 1 (peor) a 10 (mejor). Cada variedad de vino es catada por tres catadores independientes y la clasificación final asignada es la mediana de la clasificación dada por los catadores.\n",
        "\n",
        "Se espera que un modelo predictivo desarrollado a partir de estos datos sirva de orientación a los viñedos en cuanto a la calidad y el precio que se espera obtener de sus productos sin depender en gran medida de la volatilidad de los catadores.\n"
      ]
    },
    {
      "cell_type": "code",
      "metadata": {
        "id": "m4dAFqRiQwHd"
      },
      "source": [
        "import pandas as pd\n",
        "import numpy as np\n",
        "from sklearn import svm"
      ],
      "execution_count": 34,
      "outputs": []
    },
    {
      "cell_type": "code",
      "source": [
        "from sklearn import preprocessing, metrics, model_selection\n",
        "import pandas as pd\n",
        "from sklearn.metrics import roc_auc_score, accuracy_score, make_scorer, roc_curve, auc\n",
        "from sklearn.preprocessing import label_binarize\n",
        "from sklearn.model_selection import train_test_split\n",
        "from sklearn.model_selection import GridSearchCV"
      ],
      "metadata": {
        "id": "5mPeBCKQ71tk"
      },
      "execution_count": 35,
      "outputs": []
    },
    {
      "cell_type": "code",
      "metadata": {
        "id": "j0S8ZSeuQwHh"
      },
      "source": [
        "data_r = pd.read_csv('https://raw.githubusercontent.com/prof-tatiana-gutierrez/DatosMD/master/Wine_data_red.csv')\n",
        "data_w = pd.read_csv('https://raw.githubusercontent.com/prof-tatiana-gutierrez/DatosMD/master/Wine_data_white.csv')"
      ],
      "execution_count": 59,
      "outputs": []
    },
    {
      "cell_type": "code",
      "metadata": {
        "id": "zL6G49RMQwHl"
      },
      "source": [
        "data = data_w.assign(type = 'white')\n",
        "\n",
        "data = data.append(data_r.assign(type = 'red'), ignore_index=True)"
      ],
      "execution_count": 60,
      "outputs": []
    },
    {
      "cell_type": "code",
      "metadata": {
        "colab": {
          "base_uri": "https://localhost:8080/"
        },
        "id": "v4tG3aszSHwx",
        "outputId": "d5ed9f60-f0a3-47d7-af2a-4a056fec286d"
      },
      "source": [
        "data.quality.value_counts()"
      ],
      "execution_count": 61,
      "outputs": [
        {
          "output_type": "execute_result",
          "data": {
            "text/plain": [
              "6    2836\n",
              "5    2138\n",
              "7    1079\n",
              "4     216\n",
              "8     193\n",
              "3      30\n",
              "9       5\n",
              "Name: quality, dtype: int64"
            ]
          },
          "metadata": {},
          "execution_count": 61
        }
      ]
    },
    {
      "cell_type": "code",
      "metadata": {
        "colab": {
          "base_uri": "https://localhost:8080/"
        },
        "id": "Aulg4Pz5SIDO",
        "outputId": "c72f63d9-fbf6-4384-b3d9-c38bf4326475"
      },
      "source": [
        "data.type.value_counts()"
      ],
      "execution_count": 54,
      "outputs": [
        {
          "output_type": "execute_result",
          "data": {
            "text/plain": [
              "1    4898\n",
              "0    1599\n",
              "Name: type, dtype: int64"
            ]
          },
          "metadata": {},
          "execution_count": 54
        }
      ]
    },
    {
      "cell_type": "markdown",
      "metadata": {
        "id": "ijwzlA_FQwHq"
      },
      "source": [
        "# Ejercicio 2.1\n",
        "\n",
        "Mostrar la tabla de frecuencias de la calidad por tipo de vino."
      ]
    },
    {
      "cell_type": "code",
      "source": [
        "data.groupby(['quality','type']).size()"
      ],
      "metadata": {
        "colab": {
          "base_uri": "https://localhost:8080/"
        },
        "id": "hAn2wOuSbiyh",
        "outputId": "24a665b7-e140-47c8-e5e6-3f1c4e288db7"
      },
      "execution_count": 55,
      "outputs": [
        {
          "output_type": "execute_result",
          "data": {
            "text/plain": [
              "quality  type\n",
              "3        0         10\n",
              "         1         20\n",
              "4        0         53\n",
              "         1        163\n",
              "5        0        681\n",
              "         1       1457\n",
              "6        0        638\n",
              "         1       2198\n",
              "7        0        199\n",
              "         1        880\n",
              "8        0         18\n",
              "         1        175\n",
              "9        1          5\n",
              "dtype: int64"
            ]
          },
          "metadata": {},
          "execution_count": 55
        }
      ]
    },
    {
      "cell_type": "markdown",
      "metadata": {
        "id": "0kggmI76QwHv"
      },
      "source": [
        "# Ejercicio 2.2\n",
        "\n",
        "Teniendo en cuenta todas las variables:\n",
        "\n",
        "* Crear un objetivo binario para cada tipo de vino, haciendo la transformación necesaria para ingresar la información al modelo.\n",
        "* Crear una SVM que prediga el tipo de vino\n",
        "* Evalúe con F1, AUC-ROC y log-loss\n"
      ]
    },
    {
      "cell_type": "code",
      "source": [
        "data['type'] = data['type'].map({'red':0,'white':1}) "
      ],
      "metadata": {
        "id": "wtSigPYEh1ku"
      },
      "execution_count": 62,
      "outputs": []
    },
    {
      "cell_type": "code",
      "source": [
        "quality_dummy = pd.get_dummies(data['quality'])\n",
        "Data = pd.concat([data, quality_dummy], axis = 1)\n",
        "Data = Data.drop(['quality',3],1) # 3 Es la categoria de referencia\n",
        "X = np.array(Data.drop(['type'],1))\n",
        "y = np.array(Data['type'])"
      ],
      "metadata": {
        "colab": {
          "base_uri": "https://localhost:8080/"
        },
        "id": "2E3t2RNeIcxa",
        "outputId": "40e8fb23-2a82-4e6a-8d89-337b6e974057"
      },
      "execution_count": 63,
      "outputs": [
        {
          "output_type": "stream",
          "name": "stderr",
          "text": [
            "/usr/local/lib/python3.7/dist-packages/ipykernel_launcher.py:3: FutureWarning: In a future version of pandas all arguments of DataFrame.drop except for the argument 'labels' will be keyword-only\n",
            "  This is separate from the ipykernel package so we can avoid doing imports until\n",
            "/usr/local/lib/python3.7/dist-packages/ipykernel_launcher.py:4: FutureWarning: In a future version of pandas all arguments of DataFrame.drop except for the argument 'labels' will be keyword-only\n",
            "  after removing the cwd from sys.path.\n"
          ]
        }
      ]
    },
    {
      "cell_type": "code",
      "source": [
        "svc_clf = svm.SVC()\n",
        "fit_svc = svc_clf.fit(X,y)"
      ],
      "metadata": {
        "id": "nb6x4rK1Ionm"
      },
      "execution_count": 64,
      "outputs": []
    },
    {
      "cell_type": "code",
      "source": [
        "y_pred = svc_clf.predict(X)"
      ],
      "metadata": {
        "id": "fbyfTkkmf7g5"
      },
      "execution_count": 65,
      "outputs": []
    },
    {
      "cell_type": "code",
      "source": [
        "print('F1 score:', metrics.f1_score(y, y_pred))\n",
        "print('ROC AUC score:', metrics.roc_auc_score(y, y_pred, average=None))\n",
        "print('Log Loss:', metrics.log_loss(y, y_pred))"
      ],
      "metadata": {
        "colab": {
          "base_uri": "https://localhost:8080/"
        },
        "id": "N6wXFxIx0Axp",
        "outputId": "b9f4f2ec-29f4-47ee-939d-3dfce3206676"
      },
      "execution_count": 66,
      "outputs": [
        {
          "output_type": "stream",
          "name": "stdout",
          "text": [
            "F1 score: 0.9593544530783025\n",
            "ROC AUC score: 0.8899011376802213\n",
            "Log Loss: 2.169013489039307\n"
          ]
        }
      ]
    },
    {
      "cell_type": "markdown",
      "metadata": {
        "id": "auNsSHtsQwH1"
      },
      "source": [
        "# Ejercicio 2.3\n",
        "\n",
        "* Probar la SVM utilizando los diferentes kernels ('poly', 'rbf', 'sigmoid')\n",
        "* Evalúe con F1, AUC-ROC y log-loss\n"
      ]
    },
    {
      "cell_type": "code",
      "metadata": {
        "collapsed": true,
        "id": "f6adIqmAQwH4",
        "colab": {
          "base_uri": "https://localhost:8080/"
        },
        "outputId": "32db59da-8524-4e0c-e1e8-84ef5780ac50"
      },
      "source": [
        "Ker = ['poly', 'rbf', 'sigmoid']\n",
        "for i in Ker:\n",
        "  svc_clf = svm.SVC(kernel = i)\n",
        "  fit_svc = svc_clf.fit(X,y)\n",
        "  y_pred = svc_clf.predict(X)\n",
        "  print('Kernel:', i,',','F1 score:', metrics.f1_score(y, y_pred)) \n",
        "  print('Kernel:', i,',','ROC AUC score:', metrics.roc_auc_score(y, y_pred, average=None))\n",
        "  print('Kernel:', i,',','Log Loss:', metrics.log_loss(y, y_pred))\n",
        "  print(\"--------------------------------------------------\")  "
      ],
      "execution_count": 67,
      "outputs": [
        {
          "output_type": "stream",
          "name": "stdout",
          "text": [
            "Kernel: poly , F1 score: 0.9462717058222676\n",
            "Kernel: poly , ROC AUC score: 0.8915452466080398\n",
            "Kernel: poly , Log Loss: 2.796306645998903\n",
            "--------------------------------------------------\n",
            "Kernel: rbf , F1 score: 0.9593544530783025\n",
            "Kernel: rbf , ROC AUC score: 0.8899011376802213\n",
            "Kernel: rbf , Log Loss: 2.169013489039307\n",
            "--------------------------------------------------\n",
            "Kernel: sigmoid , F1 score: 0.8435748496891878\n",
            "Kernel: sigmoid , ROC AUC score: 0.6798677383858991\n",
            "Kernel: sigmoid , Log Loss: 8.16032665134581\n",
            "--------------------------------------------------\n"
          ]
        }
      ]
    },
    {
      "cell_type": "markdown",
      "source": [
        "El kernel escogido es el rbf dado que tiene el menor valor del Log Loss y el mayor valor de F1 score, Además tiene un ROC AUC bueno."
      ],
      "metadata": {
        "id": "a2j-4fTPKg8Q"
      }
    },
    {
      "cell_type": "markdown",
      "metadata": {
        "id": "DHBmMhtYQwH6"
      },
      "source": [
        "# Ejercicio 2.4\n",
        "* Utilizando el mejor SVM del punto anterior encontrar los parámetros que da el mejor rendimiento teniendo en cuenta los siguientes hiperparámetros\n",
        "'C': [0.1, 1, 10, 100, 1000], 'gamma': [0.01, 0.001, 0.0001]\n",
        "* Evalúe cada modelo con F1, AUC-ROC y log-loss\n",
        "\n",
        "Nota: Para los valores de C y gamma, deben realizar todas las posibles combinaciones entre estas dos variables."
      ]
    },
    {
      "cell_type": "code",
      "source": [
        "gamma_p = [0.01, 0.001, 0.0001] ; C_p = [0.1, 1, 10, 100, 1000]\n",
        "gamma_acum = [] ; c_acum = []\n",
        "cuadro = pd.DataFrame()"
      ],
      "metadata": {
        "id": "jKjvsps84qqN"
      },
      "execution_count": 68,
      "outputs": []
    },
    {
      "cell_type": "code",
      "source": [
        "for i in range(3):\n",
        "  for j in range(5):\n",
        "    gamma_acum.append(gamma_p[i])\n",
        "    c_acum.append(C_p[j])"
      ],
      "metadata": {
        "id": "iT9JyayXL2G3"
      },
      "execution_count": 69,
      "outputs": []
    },
    {
      "cell_type": "code",
      "source": [
        "cuadro['gamma'] = gamma_acum\n",
        "cuadro['C'] = c_acum"
      ],
      "metadata": {
        "id": "Z_SSmJY7L3zr"
      },
      "execution_count": 70,
      "outputs": []
    },
    {
      "cell_type": "code",
      "source": [
        "F1_score = [] \n",
        "ROC_AUC = [] \n",
        "Log_Loss = [] "
      ],
      "metadata": {
        "id": "nO7PN_AV4dCQ"
      },
      "execution_count": 78,
      "outputs": []
    },
    {
      "cell_type": "code",
      "source": [
        "for i in range(15):\n",
        "  svc_clf = svm.SVC(gamma = cuadro['gamma'][i], C = cuadro['C'][i], kernel = 'rbf')\n",
        "  fit_svc = svc_clf.fit(X,y)\n",
        "  y_pred = svc_clf.predict(X)\n",
        "  F1_score.append(metrics.f1_score(y, y_pred))\n",
        "  ROC_AUC.append(metrics.roc_auc_score(y, y_pred, average=None))\n",
        "  Log_Loss.append(metrics.log_loss(y, y_pred))"
      ],
      "metadata": {
        "id": "aRaVtC3R4cCk"
      },
      "execution_count": 79,
      "outputs": []
    },
    {
      "cell_type": "markdown",
      "metadata": {
        "id": "XjgVQ_WTQwH9"
      },
      "source": [
        "# Ejercicio 2.5\n",
        "\n",
        "Compare los resultados con todos los anteriores modelos y eliga ¿Cuál algoritmo con cuáles hiperparámetros es el que tiene mejor rendimiento según la puntuación F1, AUC-ROC y log-loss?"
      ]
    },
    {
      "cell_type": "code",
      "source": [
        "CuadroFinal = pd.DataFrame()\n",
        "CuadroFinal['F1 score'] = F1_score\n",
        "CuadroFinal['AUC-ROC'] = ROC_AUC\n",
        "CuadroFinal['log-loss'] = Log_Loss\n",
        "pd.concat([cuadro, CuadroFinal], axis = 1)"
      ],
      "metadata": {
        "colab": {
          "base_uri": "https://localhost:8080/",
          "height": 519
        },
        "id": "w-asQpvxh4hO",
        "outputId": "f8ba9df3-e401-4f44-c676-3a8ed7395fe0"
      },
      "execution_count": 80,
      "outputs": [
        {
          "output_type": "execute_result",
          "data": {
            "text/plain": [
              "     gamma       C  F1 score   AUC-ROC  log-loss\n",
              "0   0.0100     0.1  0.959212  0.888012  2.179647\n",
              "1   0.0100     1.0  0.968876  0.918439  1.648024\n",
              "2   0.0100    10.0  0.988817  0.972975  0.584781\n",
              "3   0.0100   100.0  0.998980  0.997084  0.053162\n",
              "4   0.0100  1000.0  0.999796  0.999585  0.010632\n",
              "5   0.0010     0.1  0.957831  0.887527  2.248756\n",
              "6   0.0010     1.0  0.962556  0.899167  1.993578\n",
              "7   0.0010    10.0  0.975098  0.935822  1.313102\n",
              "8   0.0010   100.0  0.991958  0.980773  0.419979\n",
              "9   0.0010  1000.0  0.996838  0.992623  0.164802\n",
              "10  0.0001     0.1  0.954514  0.878791  2.429507\n",
              "11  0.0001     1.0  0.960431  0.892709  2.110535\n",
              "12  0.0001    10.0  0.966773  0.910507  1.764982\n",
              "13  0.0001   100.0  0.982701  0.955164  0.909071\n",
              "14  0.0001  1000.0  0.993276  0.984206  0.350869"
            ],
            "text/html": [
              "\n",
              "  <div id=\"df-2ba8a491-d890-4c6c-aa08-ebf6b52db9f3\">\n",
              "    <div class=\"colab-df-container\">\n",
              "      <div>\n",
              "<style scoped>\n",
              "    .dataframe tbody tr th:only-of-type {\n",
              "        vertical-align: middle;\n",
              "    }\n",
              "\n",
              "    .dataframe tbody tr th {\n",
              "        vertical-align: top;\n",
              "    }\n",
              "\n",
              "    .dataframe thead th {\n",
              "        text-align: right;\n",
              "    }\n",
              "</style>\n",
              "<table border=\"1\" class=\"dataframe\">\n",
              "  <thead>\n",
              "    <tr style=\"text-align: right;\">\n",
              "      <th></th>\n",
              "      <th>gamma</th>\n",
              "      <th>C</th>\n",
              "      <th>F1 score</th>\n",
              "      <th>AUC-ROC</th>\n",
              "      <th>log-loss</th>\n",
              "    </tr>\n",
              "  </thead>\n",
              "  <tbody>\n",
              "    <tr>\n",
              "      <th>0</th>\n",
              "      <td>0.0100</td>\n",
              "      <td>0.1</td>\n",
              "      <td>0.959212</td>\n",
              "      <td>0.888012</td>\n",
              "      <td>2.179647</td>\n",
              "    </tr>\n",
              "    <tr>\n",
              "      <th>1</th>\n",
              "      <td>0.0100</td>\n",
              "      <td>1.0</td>\n",
              "      <td>0.968876</td>\n",
              "      <td>0.918439</td>\n",
              "      <td>1.648024</td>\n",
              "    </tr>\n",
              "    <tr>\n",
              "      <th>2</th>\n",
              "      <td>0.0100</td>\n",
              "      <td>10.0</td>\n",
              "      <td>0.988817</td>\n",
              "      <td>0.972975</td>\n",
              "      <td>0.584781</td>\n",
              "    </tr>\n",
              "    <tr>\n",
              "      <th>3</th>\n",
              "      <td>0.0100</td>\n",
              "      <td>100.0</td>\n",
              "      <td>0.998980</td>\n",
              "      <td>0.997084</td>\n",
              "      <td>0.053162</td>\n",
              "    </tr>\n",
              "    <tr>\n",
              "      <th>4</th>\n",
              "      <td>0.0100</td>\n",
              "      <td>1000.0</td>\n",
              "      <td>0.999796</td>\n",
              "      <td>0.999585</td>\n",
              "      <td>0.010632</td>\n",
              "    </tr>\n",
              "    <tr>\n",
              "      <th>5</th>\n",
              "      <td>0.0010</td>\n",
              "      <td>0.1</td>\n",
              "      <td>0.957831</td>\n",
              "      <td>0.887527</td>\n",
              "      <td>2.248756</td>\n",
              "    </tr>\n",
              "    <tr>\n",
              "      <th>6</th>\n",
              "      <td>0.0010</td>\n",
              "      <td>1.0</td>\n",
              "      <td>0.962556</td>\n",
              "      <td>0.899167</td>\n",
              "      <td>1.993578</td>\n",
              "    </tr>\n",
              "    <tr>\n",
              "      <th>7</th>\n",
              "      <td>0.0010</td>\n",
              "      <td>10.0</td>\n",
              "      <td>0.975098</td>\n",
              "      <td>0.935822</td>\n",
              "      <td>1.313102</td>\n",
              "    </tr>\n",
              "    <tr>\n",
              "      <th>8</th>\n",
              "      <td>0.0010</td>\n",
              "      <td>100.0</td>\n",
              "      <td>0.991958</td>\n",
              "      <td>0.980773</td>\n",
              "      <td>0.419979</td>\n",
              "    </tr>\n",
              "    <tr>\n",
              "      <th>9</th>\n",
              "      <td>0.0010</td>\n",
              "      <td>1000.0</td>\n",
              "      <td>0.996838</td>\n",
              "      <td>0.992623</td>\n",
              "      <td>0.164802</td>\n",
              "    </tr>\n",
              "    <tr>\n",
              "      <th>10</th>\n",
              "      <td>0.0001</td>\n",
              "      <td>0.1</td>\n",
              "      <td>0.954514</td>\n",
              "      <td>0.878791</td>\n",
              "      <td>2.429507</td>\n",
              "    </tr>\n",
              "    <tr>\n",
              "      <th>11</th>\n",
              "      <td>0.0001</td>\n",
              "      <td>1.0</td>\n",
              "      <td>0.960431</td>\n",
              "      <td>0.892709</td>\n",
              "      <td>2.110535</td>\n",
              "    </tr>\n",
              "    <tr>\n",
              "      <th>12</th>\n",
              "      <td>0.0001</td>\n",
              "      <td>10.0</td>\n",
              "      <td>0.966773</td>\n",
              "      <td>0.910507</td>\n",
              "      <td>1.764982</td>\n",
              "    </tr>\n",
              "    <tr>\n",
              "      <th>13</th>\n",
              "      <td>0.0001</td>\n",
              "      <td>100.0</td>\n",
              "      <td>0.982701</td>\n",
              "      <td>0.955164</td>\n",
              "      <td>0.909071</td>\n",
              "    </tr>\n",
              "    <tr>\n",
              "      <th>14</th>\n",
              "      <td>0.0001</td>\n",
              "      <td>1000.0</td>\n",
              "      <td>0.993276</td>\n",
              "      <td>0.984206</td>\n",
              "      <td>0.350869</td>\n",
              "    </tr>\n",
              "  </tbody>\n",
              "</table>\n",
              "</div>\n",
              "      <button class=\"colab-df-convert\" onclick=\"convertToInteractive('df-2ba8a491-d890-4c6c-aa08-ebf6b52db9f3')\"\n",
              "              title=\"Convert this dataframe to an interactive table.\"\n",
              "              style=\"display:none;\">\n",
              "        \n",
              "  <svg xmlns=\"http://www.w3.org/2000/svg\" height=\"24px\"viewBox=\"0 0 24 24\"\n",
              "       width=\"24px\">\n",
              "    <path d=\"M0 0h24v24H0V0z\" fill=\"none\"/>\n",
              "    <path d=\"M18.56 5.44l.94 2.06.94-2.06 2.06-.94-2.06-.94-.94-2.06-.94 2.06-2.06.94zm-11 1L8.5 8.5l.94-2.06 2.06-.94-2.06-.94L8.5 2.5l-.94 2.06-2.06.94zm10 10l.94 2.06.94-2.06 2.06-.94-2.06-.94-.94-2.06-.94 2.06-2.06.94z\"/><path d=\"M17.41 7.96l-1.37-1.37c-.4-.4-.92-.59-1.43-.59-.52 0-1.04.2-1.43.59L10.3 9.45l-7.72 7.72c-.78.78-.78 2.05 0 2.83L4 21.41c.39.39.9.59 1.41.59.51 0 1.02-.2 1.41-.59l7.78-7.78 2.81-2.81c.8-.78.8-2.07 0-2.86zM5.41 20L4 18.59l7.72-7.72 1.47 1.35L5.41 20z\"/>\n",
              "  </svg>\n",
              "      </button>\n",
              "      \n",
              "  <style>\n",
              "    .colab-df-container {\n",
              "      display:flex;\n",
              "      flex-wrap:wrap;\n",
              "      gap: 12px;\n",
              "    }\n",
              "\n",
              "    .colab-df-convert {\n",
              "      background-color: #E8F0FE;\n",
              "      border: none;\n",
              "      border-radius: 50%;\n",
              "      cursor: pointer;\n",
              "      display: none;\n",
              "      fill: #1967D2;\n",
              "      height: 32px;\n",
              "      padding: 0 0 0 0;\n",
              "      width: 32px;\n",
              "    }\n",
              "\n",
              "    .colab-df-convert:hover {\n",
              "      background-color: #E2EBFA;\n",
              "      box-shadow: 0px 1px 2px rgba(60, 64, 67, 0.3), 0px 1px 3px 1px rgba(60, 64, 67, 0.15);\n",
              "      fill: #174EA6;\n",
              "    }\n",
              "\n",
              "    [theme=dark] .colab-df-convert {\n",
              "      background-color: #3B4455;\n",
              "      fill: #D2E3FC;\n",
              "    }\n",
              "\n",
              "    [theme=dark] .colab-df-convert:hover {\n",
              "      background-color: #434B5C;\n",
              "      box-shadow: 0px 1px 3px 1px rgba(0, 0, 0, 0.15);\n",
              "      filter: drop-shadow(0px 1px 2px rgba(0, 0, 0, 0.3));\n",
              "      fill: #FFFFFF;\n",
              "    }\n",
              "  </style>\n",
              "\n",
              "      <script>\n",
              "        const buttonEl =\n",
              "          document.querySelector('#df-2ba8a491-d890-4c6c-aa08-ebf6b52db9f3 button.colab-df-convert');\n",
              "        buttonEl.style.display =\n",
              "          google.colab.kernel.accessAllowed ? 'block' : 'none';\n",
              "\n",
              "        async function convertToInteractive(key) {\n",
              "          const element = document.querySelector('#df-2ba8a491-d890-4c6c-aa08-ebf6b52db9f3');\n",
              "          const dataTable =\n",
              "            await google.colab.kernel.invokeFunction('convertToInteractive',\n",
              "                                                     [key], {});\n",
              "          if (!dataTable) return;\n",
              "\n",
              "          const docLinkHtml = 'Like what you see? Visit the ' +\n",
              "            '<a target=\"_blank\" href=https://colab.research.google.com/notebooks/data_table.ipynb>data table notebook</a>'\n",
              "            + ' to learn more about interactive tables.';\n",
              "          element.innerHTML = '';\n",
              "          dataTable['output_type'] = 'display_data';\n",
              "          await google.colab.output.renderOutput(dataTable, element);\n",
              "          const docLink = document.createElement('div');\n",
              "          docLink.innerHTML = docLinkHtml;\n",
              "          element.appendChild(docLink);\n",
              "        }\n",
              "      </script>\n",
              "    </div>\n",
              "  </div>\n",
              "  "
            ]
          },
          "metadata": {},
          "execution_count": 80
        }
      ]
    },
    {
      "cell_type": "markdown",
      "source": [
        "El algoritmo que tiene mejor rendimiento según la puntuación F1, AUC-ROC y log-loss es el SVM con la siguiente especificación:\n",
        "- kernel: rbf\n",
        "- gamma: $0.01$ \n",
        "- c: $1000$"
      ],
      "metadata": {
        "id": "x-s1JStkjKVk"
      }
    }
  ]
}