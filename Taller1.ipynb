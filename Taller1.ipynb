{
 "cells": [
  {
   "cell_type": "markdown",
   "id": "ca7580ee",
   "metadata": {},
   "source": [
    "Camilo Andres Rey\n",
    "Taller 1\n",
    "Mineria de datos"
   ]
  },
  {
   "cell_type": "markdown",
   "id": "9e3251a8",
   "metadata": {},
   "source": [
    "Ejercicio 1:\n",
    "\n",
    "Cree una función que transforme grados Fahrenheit a grados centígrados"
   ]
  },
  {
   "cell_type": "code",
   "execution_count": null,
   "id": "e22a858c",
   "metadata": {},
   "outputs": [],
   "source": [
    "def Fahrenheit_a_centigrados(farenheit):\n",
    "    \n",
    "    fahrenheit = int(input(\"Ingrese grados Fahrenheit \"))\n",
    "    \n",
    "    centigrados = ((fahrenheit - 32) * 5.0/9.0) # conversion a grados centrigrados\n",
    "    \n",
    "    print( fahrenheit, \" grados Fahrenheit son \", centigrados ,\"grados centigrados\")\n",
    "\n",
    "\n",
    "\n",
    "Fahrenheit_a_centigrados(80)\n"
   ]
  },
  {
   "cell_type": "markdown",
   "id": "d494d941",
   "metadata": {},
   "source": [
    "Ejercicio 2:\n",
    "\n",
    "Escribir un programa que almacene la cadena de caracteres contraseña en una variable, pregunte al usuario por la contraseña e imprima por pantalla si el valor es correcto o no en función de los siguientes aspectos:\n",
    "\n",
    "1. Falta al menos un carácter numérico\n",
    "\n",
    "2. Falta al menos uno de los siguientes carácter especiales : *, _ , !, $, %\n",
    "\n",
    "3. Falta al menos una mayúscula"
   ]
  },
  {
   "cell_type": "code",
   "execution_count": 94,
   "id": "38fceef0",
   "metadata": {},
   "outputs": [
    {
     "name": "stdout",
     "output_type": "stream",
     "text": [
      "La contraseña seleccionada NO es segura\n"
     ]
    }
   ],
   "source": [
    "def Contraseña(contraseña):\n",
    "\n",
    "    Mayus = False; Num = False; Minus = False;Carac= False\n",
    "    \n",
    "    for i in contraseña: #ciclo for que recorre caracter por caracter en la contraseña\n",
    "        \n",
    "        if i.isupper()== True: #recorre cada caracter e identifica si hay mayusculas\n",
    "            \n",
    "            Mayus=True\n",
    "            \n",
    "        if i.islower()== True:#recorre cada caracter e identifica si hay minusculas\n",
    "            \n",
    "            Minus=True\n",
    "        \n",
    "        if i.isdigit()==True:#recorre cada caracter e identifica si hay numeros\n",
    "            \n",
    "            Num =True\n",
    "            \n",
    "        if i.isalnum()== False:#recorre cada caracter e identifica si hay caracter especial\n",
    "            \n",
    "            Carac=True\n",
    "            \n",
    "    if Num==True and Minus==True and Mayus == True and Carac==True: # si cumple todas la condiciones la contraseña es valida\n",
    "        \n",
    "        print('La contraseña seleccionada es segura!')\n",
    "            \n",
    "    else:\n",
    "        print('La contraseña seleccionada NO es segura')\n",
    "        \n",
    "    return\n",
    "            \n",
    "\n",
    "Contraseña(\"Vale1\")        \n",
    "                \n",
    "                            \n",
    "        "
   ]
  },
  {
   "cell_type": "markdown",
   "id": "ea6d37d1",
   "metadata": {},
   "source": [
    "Ejercicio 3:\n",
    "\n",
    "Laura y Sebastián vieron una promoción en Buscalibre dónde por la compra de 2 libros te llevas el tercero de menor valor. Ellos quieren analizar si hay una forma de adquirir 6 libros en dónde puedan sacar la mayor ganancia posible. Las opciones de libros son los siguientes:\n",
    "\n",
    "• Libro 1 por $50.000\n",
    "\n",
    "• Libro 2 por $30.000\n",
    "\n",
    "• Libro 3 por $80.000\n",
    "\n",
    "• Libro 4 por $20.000\n",
    "\n",
    "• Libro 5 por $100.000\n",
    "\n",
    "• Libro 6 por $40.000\n",
    "\n",
    "Escriba un programa que arroje cual debería ser la combinación de libros adecuada para ahorrar lo máximo posible."
   ]
  },
  {
   "cell_type": "code",
   "execution_count": null,
   "id": "e14e4aac",
   "metadata": {},
   "outputs": [],
   "source": []
  }
 ],
 "metadata": {
  "kernelspec": {
   "display_name": "Python 3 (ipykernel)",
   "language": "python",
   "name": "python3"
  },
  "language_info": {
   "codemirror_mode": {
    "name": "ipython",
    "version": 3
   },
   "file_extension": ".py",
   "mimetype": "text/x-python",
   "name": "python",
   "nbconvert_exporter": "python",
   "pygments_lexer": "ipython3",
   "version": "3.9.12"
  }
 },
 "nbformat": 4,
 "nbformat_minor": 5
}
