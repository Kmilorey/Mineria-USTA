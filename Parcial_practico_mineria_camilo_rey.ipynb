{
  "nbformat": 4,
  "nbformat_minor": 0,
  "metadata": {
    "colab": {
      "provenance": []
    },
    "kernelspec": {
      "name": "python3",
      "display_name": "Python 3"
    },
    "language_info": {
      "name": "python"
    }
  },
  "cells": [
    {
      "cell_type": "markdown",
      "source": [
        "# Parcial Práctico 2\n",
        "## MÉTODOS DE MINERÍA DE DATOS PHYTON 8A\n",
        "## Camilo Rey"
      ],
      "metadata": {
        "id": "JoE4raV-_Mey"
      }
    },
    {
      "cell_type": "code",
      "source": [
        "pip install pingouin"
      ],
      "metadata": {
        "id": "RlTtrnt4A_7a",
        "colab": {
          "base_uri": "https://localhost:8080/"
        },
        "outputId": "d1672332-b21b-4340-e12e-08a949cdd855"
      },
      "execution_count": 5,
      "outputs": [
        {
          "output_type": "stream",
          "name": "stdout",
          "text": [
            "Looking in indexes: https://pypi.org/simple, https://us-python.pkg.dev/colab-wheels/public/simple/\n",
            "Collecting pingouin\n",
            "  Downloading pingouin-0.5.2.tar.gz (185 kB)\n",
            "\u001b[K     |████████████████████████████████| 185 kB 11.6 MB/s \n",
            "\u001b[?25hRequirement already satisfied: numpy>=1.19 in /usr/local/lib/python3.7/dist-packages (from pingouin) (1.21.6)\n",
            "Requirement already satisfied: scipy>=1.7 in /usr/local/lib/python3.7/dist-packages (from pingouin) (1.7.3)\n",
            "Requirement already satisfied: pandas>=1.0 in /usr/local/lib/python3.7/dist-packages (from pingouin) (1.3.5)\n",
            "Requirement already satisfied: matplotlib>=3.0.2 in /usr/local/lib/python3.7/dist-packages (from pingouin) (3.2.2)\n",
            "Requirement already satisfied: seaborn>=0.11 in /usr/local/lib/python3.7/dist-packages (from pingouin) (0.11.2)\n",
            "Collecting statsmodels>=0.13\n",
            "  Downloading statsmodels-0.13.2-cp37-cp37m-manylinux_2_17_x86_64.manylinux2014_x86_64.whl (9.8 MB)\n",
            "\u001b[K     |████████████████████████████████| 9.8 MB 56.4 MB/s \n",
            "\u001b[?25hRequirement already satisfied: scikit-learn<1.1.0 in /usr/local/lib/python3.7/dist-packages (from pingouin) (1.0.2)\n",
            "Collecting pandas_flavor>=0.2.0\n",
            "  Downloading pandas_flavor-0.3.0-py3-none-any.whl (6.3 kB)\n",
            "Collecting outdated\n",
            "  Downloading outdated-0.2.1-py3-none-any.whl (7.5 kB)\n",
            "Requirement already satisfied: tabulate in /usr/local/lib/python3.7/dist-packages (from pingouin) (0.8.10)\n",
            "Requirement already satisfied: python-dateutil>=2.1 in /usr/local/lib/python3.7/dist-packages (from matplotlib>=3.0.2->pingouin) (2.8.2)\n",
            "Requirement already satisfied: kiwisolver>=1.0.1 in /usr/local/lib/python3.7/dist-packages (from matplotlib>=3.0.2->pingouin) (1.4.4)\n",
            "Requirement already satisfied: pyparsing!=2.0.4,!=2.1.2,!=2.1.6,>=2.0.1 in /usr/local/lib/python3.7/dist-packages (from matplotlib>=3.0.2->pingouin) (3.0.9)\n",
            "Requirement already satisfied: cycler>=0.10 in /usr/local/lib/python3.7/dist-packages (from matplotlib>=3.0.2->pingouin) (0.11.0)\n",
            "Requirement already satisfied: typing-extensions in /usr/local/lib/python3.7/dist-packages (from kiwisolver>=1.0.1->matplotlib>=3.0.2->pingouin) (4.1.1)\n",
            "Requirement already satisfied: pytz>=2017.3 in /usr/local/lib/python3.7/dist-packages (from pandas>=1.0->pingouin) (2022.4)\n",
            "Requirement already satisfied: xarray in /usr/local/lib/python3.7/dist-packages (from pandas_flavor>=0.2.0->pingouin) (0.20.2)\n",
            "Collecting pandas_flavor>=0.2.0\n",
            "  Downloading pandas_flavor-0.2.0-py2.py3-none-any.whl (6.6 kB)\n",
            "Requirement already satisfied: six>=1.5 in /usr/local/lib/python3.7/dist-packages (from python-dateutil>=2.1->matplotlib>=3.0.2->pingouin) (1.15.0)\n",
            "Requirement already satisfied: joblib>=0.11 in /usr/local/lib/python3.7/dist-packages (from scikit-learn<1.1.0->pingouin) (1.2.0)\n",
            "Requirement already satisfied: threadpoolctl>=2.0.0 in /usr/local/lib/python3.7/dist-packages (from scikit-learn<1.1.0->pingouin) (3.1.0)\n",
            "Requirement already satisfied: patsy>=0.5.2 in /usr/local/lib/python3.7/dist-packages (from statsmodels>=0.13->pingouin) (0.5.2)\n",
            "Requirement already satisfied: packaging>=21.3 in /usr/local/lib/python3.7/dist-packages (from statsmodels>=0.13->pingouin) (21.3)\n",
            "Collecting littleutils\n",
            "  Downloading littleutils-0.2.2.tar.gz (6.6 kB)\n",
            "Requirement already satisfied: requests in /usr/local/lib/python3.7/dist-packages (from outdated->pingouin) (2.23.0)\n",
            "Requirement already satisfied: idna<3,>=2.5 in /usr/local/lib/python3.7/dist-packages (from requests->outdated->pingouin) (2.10)\n",
            "Requirement already satisfied: certifi>=2017.4.17 in /usr/local/lib/python3.7/dist-packages (from requests->outdated->pingouin) (2022.9.24)\n",
            "Requirement already satisfied: chardet<4,>=3.0.2 in /usr/local/lib/python3.7/dist-packages (from requests->outdated->pingouin) (3.0.4)\n",
            "Requirement already satisfied: urllib3!=1.25.0,!=1.25.1,<1.26,>=1.21.1 in /usr/local/lib/python3.7/dist-packages (from requests->outdated->pingouin) (1.24.3)\n",
            "Requirement already satisfied: importlib-metadata in /usr/local/lib/python3.7/dist-packages (from xarray->pandas_flavor>=0.2.0->pingouin) (5.0.0)\n",
            "Requirement already satisfied: zipp>=0.5 in /usr/local/lib/python3.7/dist-packages (from importlib-metadata->xarray->pandas_flavor>=0.2.0->pingouin) (3.8.1)\n",
            "Building wheels for collected packages: pingouin, littleutils\n",
            "  Building wheel for pingouin (setup.py) ... \u001b[?25l\u001b[?25hdone\n",
            "  Created wheel for pingouin: filename=pingouin-0.5.2-py3-none-any.whl size=196206 sha256=98009f76064c9e65870f919a47bfaa0154901f0f2233da1487a8d878309dcd3a\n",
            "  Stored in directory: /root/.cache/pip/wheels/11/5a/63/a6d32fc26fa462c731f65480bfb98ff7bd39b8ebcb4bc6c2fe\n",
            "  Building wheel for littleutils (setup.py) ... \u001b[?25l\u001b[?25hdone\n",
            "  Created wheel for littleutils: filename=littleutils-0.2.2-py3-none-any.whl size=7048 sha256=21a4aa4daa1fb7dcd040ec698adeebc57a5493bccd49305bed7b9d7e9b928988\n",
            "  Stored in directory: /root/.cache/pip/wheels/d6/64/cd/32819b511a488e4993f2fab909a95330289c3f4e0f6ef4676d\n",
            "Successfully built pingouin littleutils\n",
            "Installing collected packages: littleutils, statsmodels, pandas-flavor, outdated, pingouin\n",
            "  Attempting uninstall: statsmodels\n",
            "    Found existing installation: statsmodels 0.12.2\n",
            "    Uninstalling statsmodels-0.12.2:\n",
            "      Successfully uninstalled statsmodels-0.12.2\n",
            "Successfully installed littleutils-0.2.2 outdated-0.2.1 pandas-flavor-0.2.0 pingouin-0.5.2 statsmodels-0.13.2\n"
          ]
        }
      ]
    },
    {
      "cell_type": "code",
      "source": [
        "from google.colab import drive\n",
        "drive.mount('/content/drive')\n",
        "from sklearn.linear_model import RidgeCV\n",
        "from sklearn.pipeline import make_pipeline\n",
        "from statistics import mode\n",
        "import pandas as pd\n",
        "import numpy as np\n",
        "import seaborn as sns\n",
        "import matplotlib as plt\n",
        "import matplotlib.pyplot as plt\n",
        "from sklearn.preprocessing import StandardScaler\n",
        "import altair as alt\n",
        "from vega_datasets import data\n",
        "from sklearn.model_selection import train_test_split\n",
        "from sklearn.model_selection import KFold\n",
        "from sklearn.model_selection import cross_val_score\n",
        "import csv\n",
        "from sklearn.model_selection import cross_val_score\n",
        "from itertools import combinations\n",
        "from  scipy.stats import chi2_contingency\n",
        "from numpy.lib.arraysetops import setxor1d\n",
        "from sklearn.linear_model import LogisticRegression\n",
        "from sklearn import metrics\n",
        "from sklearn.model_selection import train_test_split\n",
        "from sklearn.model_selection import KFold\n",
        "import pingouin as pg\n",
        "pd.set_option('display.max_columns', None)\n",
        "!pip install -U -q PyDrive"
      ],
      "metadata": {
        "colab": {
          "base_uri": "https://localhost:8080/"
        },
        "id": "jQuNxBa1AJOx",
        "outputId": "ef45c422-3392-4bc0-da4c-f2d666db6a04"
      },
      "execution_count": 6,
      "outputs": [
        {
          "output_type": "stream",
          "name": "stdout",
          "text": [
            "Mounted at /content/drive\n"
          ]
        }
      ]
    },
    {
      "cell_type": "code",
      "source": [
        "Matematicas = pd.read_csv('/content/drive/MyDrive/student-mat.csv',\n",
        "                   sep = \";\")"
      ],
      "metadata": {
        "id": "KCECjiRfAd_D"
      },
      "execution_count": 7,
      "outputs": []
    },
    {
      "cell_type": "markdown",
      "source": [
        "# Punto 1"
      ],
      "metadata": {
        "id": "3tPDiLj__T3J"
      }
    },
    {
      "cell_type": "code",
      "source": [
        "Matematicas"
      ],
      "metadata": {
        "id": "Qva6KeGOBggG",
        "colab": {
          "base_uri": "https://localhost:8080/",
          "height": 487
        },
        "outputId": "7679b747-9da9-4bda-dc11-b58d2d51083a"
      },
      "execution_count": 8,
      "outputs": [
        {
          "output_type": "execute_result",
          "data": {
            "text/plain": [
              "    school sex  age address famsize Pstatus  Medu  Fedu      Mjob      Fjob  \\\n",
              "0       GP   F   18       U     GT3       A     4     4   at_home   teacher   \n",
              "1       GP   F   17       U     GT3       T     1     1   at_home     other   \n",
              "2       GP   F   15       U     LE3       T     1     1   at_home     other   \n",
              "3       GP   F   15       U     GT3       T     4     2    health  services   \n",
              "4       GP   F   16       U     GT3       T     3     3     other     other   \n",
              "..     ...  ..  ...     ...     ...     ...   ...   ...       ...       ...   \n",
              "390     MS   M   20       U     LE3       A     2     2  services  services   \n",
              "391     MS   M   17       U     LE3       T     3     1  services  services   \n",
              "392     MS   M   21       R     GT3       T     1     1     other     other   \n",
              "393     MS   M   18       R     LE3       T     3     2  services     other   \n",
              "394     MS   M   19       U     LE3       T     1     1     other   at_home   \n",
              "\n",
              "     ... famrel freetime  goout  Dalc  Walc health absences    G1  G2  G3  \n",
              "0    ...    4.0        3      4     1     1    3.0      6.0   5.0   6   6  \n",
              "1    ...    5.0        3      3     1     1    3.0      4.0   5.0   5   6  \n",
              "2    ...    4.0        3      2     2     3    3.0     10.0   7.0   8  10  \n",
              "3    ...    3.0        2      2     1     1    5.0      2.0  15.0  14  15  \n",
              "4    ...    4.0        3      2     1     2    5.0      4.0   6.0  10  10  \n",
              "..   ...    ...      ...    ...   ...   ...    ...      ...   ...  ..  ..  \n",
              "390  ...    5.0        5      4     4     5    4.0     11.0   9.0   9   9  \n",
              "391  ...    2.0        4      5     3     4    2.0      3.0  14.0  16  16  \n",
              "392  ...    5.0        5      3     3     3    3.0      3.0  10.0   8   7  \n",
              "393  ...    4.0        4      1     3     4    5.0      0.0  11.0  12  10  \n",
              "394  ...    3.0        2      3     3     3    5.0      5.0   8.0   9   9  \n",
              "\n",
              "[395 rows x 33 columns]"
            ],
            "text/html": [
              "\n",
              "  <div id=\"df-75c62a3e-496c-4764-ba26-eb23c7dd9f2b\">\n",
              "    <div class=\"colab-df-container\">\n",
              "      <div>\n",
              "<style scoped>\n",
              "    .dataframe tbody tr th:only-of-type {\n",
              "        vertical-align: middle;\n",
              "    }\n",
              "\n",
              "    .dataframe tbody tr th {\n",
              "        vertical-align: top;\n",
              "    }\n",
              "\n",
              "    .dataframe thead th {\n",
              "        text-align: right;\n",
              "    }\n",
              "</style>\n",
              "<table border=\"1\" class=\"dataframe\">\n",
              "  <thead>\n",
              "    <tr style=\"text-align: right;\">\n",
              "      <th></th>\n",
              "      <th>school</th>\n",
              "      <th>sex</th>\n",
              "      <th>age</th>\n",
              "      <th>address</th>\n",
              "      <th>famsize</th>\n",
              "      <th>Pstatus</th>\n",
              "      <th>Medu</th>\n",
              "      <th>Fedu</th>\n",
              "      <th>Mjob</th>\n",
              "      <th>Fjob</th>\n",
              "      <th>...</th>\n",
              "      <th>famrel</th>\n",
              "      <th>freetime</th>\n",
              "      <th>goout</th>\n",
              "      <th>Dalc</th>\n",
              "      <th>Walc</th>\n",
              "      <th>health</th>\n",
              "      <th>absences</th>\n",
              "      <th>G1</th>\n",
              "      <th>G2</th>\n",
              "      <th>G3</th>\n",
              "    </tr>\n",
              "  </thead>\n",
              "  <tbody>\n",
              "    <tr>\n",
              "      <th>0</th>\n",
              "      <td>GP</td>\n",
              "      <td>F</td>\n",
              "      <td>18</td>\n",
              "      <td>U</td>\n",
              "      <td>GT3</td>\n",
              "      <td>A</td>\n",
              "      <td>4</td>\n",
              "      <td>4</td>\n",
              "      <td>at_home</td>\n",
              "      <td>teacher</td>\n",
              "      <td>...</td>\n",
              "      <td>4.0</td>\n",
              "      <td>3</td>\n",
              "      <td>4</td>\n",
              "      <td>1</td>\n",
              "      <td>1</td>\n",
              "      <td>3.0</td>\n",
              "      <td>6.0</td>\n",
              "      <td>5.0</td>\n",
              "      <td>6</td>\n",
              "      <td>6</td>\n",
              "    </tr>\n",
              "    <tr>\n",
              "      <th>1</th>\n",
              "      <td>GP</td>\n",
              "      <td>F</td>\n",
              "      <td>17</td>\n",
              "      <td>U</td>\n",
              "      <td>GT3</td>\n",
              "      <td>T</td>\n",
              "      <td>1</td>\n",
              "      <td>1</td>\n",
              "      <td>at_home</td>\n",
              "      <td>other</td>\n",
              "      <td>...</td>\n",
              "      <td>5.0</td>\n",
              "      <td>3</td>\n",
              "      <td>3</td>\n",
              "      <td>1</td>\n",
              "      <td>1</td>\n",
              "      <td>3.0</td>\n",
              "      <td>4.0</td>\n",
              "      <td>5.0</td>\n",
              "      <td>5</td>\n",
              "      <td>6</td>\n",
              "    </tr>\n",
              "    <tr>\n",
              "      <th>2</th>\n",
              "      <td>GP</td>\n",
              "      <td>F</td>\n",
              "      <td>15</td>\n",
              "      <td>U</td>\n",
              "      <td>LE3</td>\n",
              "      <td>T</td>\n",
              "      <td>1</td>\n",
              "      <td>1</td>\n",
              "      <td>at_home</td>\n",
              "      <td>other</td>\n",
              "      <td>...</td>\n",
              "      <td>4.0</td>\n",
              "      <td>3</td>\n",
              "      <td>2</td>\n",
              "      <td>2</td>\n",
              "      <td>3</td>\n",
              "      <td>3.0</td>\n",
              "      <td>10.0</td>\n",
              "      <td>7.0</td>\n",
              "      <td>8</td>\n",
              "      <td>10</td>\n",
              "    </tr>\n",
              "    <tr>\n",
              "      <th>3</th>\n",
              "      <td>GP</td>\n",
              "      <td>F</td>\n",
              "      <td>15</td>\n",
              "      <td>U</td>\n",
              "      <td>GT3</td>\n",
              "      <td>T</td>\n",
              "      <td>4</td>\n",
              "      <td>2</td>\n",
              "      <td>health</td>\n",
              "      <td>services</td>\n",
              "      <td>...</td>\n",
              "      <td>3.0</td>\n",
              "      <td>2</td>\n",
              "      <td>2</td>\n",
              "      <td>1</td>\n",
              "      <td>1</td>\n",
              "      <td>5.0</td>\n",
              "      <td>2.0</td>\n",
              "      <td>15.0</td>\n",
              "      <td>14</td>\n",
              "      <td>15</td>\n",
              "    </tr>\n",
              "    <tr>\n",
              "      <th>4</th>\n",
              "      <td>GP</td>\n",
              "      <td>F</td>\n",
              "      <td>16</td>\n",
              "      <td>U</td>\n",
              "      <td>GT3</td>\n",
              "      <td>T</td>\n",
              "      <td>3</td>\n",
              "      <td>3</td>\n",
              "      <td>other</td>\n",
              "      <td>other</td>\n",
              "      <td>...</td>\n",
              "      <td>4.0</td>\n",
              "      <td>3</td>\n",
              "      <td>2</td>\n",
              "      <td>1</td>\n",
              "      <td>2</td>\n",
              "      <td>5.0</td>\n",
              "      <td>4.0</td>\n",
              "      <td>6.0</td>\n",
              "      <td>10</td>\n",
              "      <td>10</td>\n",
              "    </tr>\n",
              "    <tr>\n",
              "      <th>...</th>\n",
              "      <td>...</td>\n",
              "      <td>...</td>\n",
              "      <td>...</td>\n",
              "      <td>...</td>\n",
              "      <td>...</td>\n",
              "      <td>...</td>\n",
              "      <td>...</td>\n",
              "      <td>...</td>\n",
              "      <td>...</td>\n",
              "      <td>...</td>\n",
              "      <td>...</td>\n",
              "      <td>...</td>\n",
              "      <td>...</td>\n",
              "      <td>...</td>\n",
              "      <td>...</td>\n",
              "      <td>...</td>\n",
              "      <td>...</td>\n",
              "      <td>...</td>\n",
              "      <td>...</td>\n",
              "      <td>...</td>\n",
              "      <td>...</td>\n",
              "    </tr>\n",
              "    <tr>\n",
              "      <th>390</th>\n",
              "      <td>MS</td>\n",
              "      <td>M</td>\n",
              "      <td>20</td>\n",
              "      <td>U</td>\n",
              "      <td>LE3</td>\n",
              "      <td>A</td>\n",
              "      <td>2</td>\n",
              "      <td>2</td>\n",
              "      <td>services</td>\n",
              "      <td>services</td>\n",
              "      <td>...</td>\n",
              "      <td>5.0</td>\n",
              "      <td>5</td>\n",
              "      <td>4</td>\n",
              "      <td>4</td>\n",
              "      <td>5</td>\n",
              "      <td>4.0</td>\n",
              "      <td>11.0</td>\n",
              "      <td>9.0</td>\n",
              "      <td>9</td>\n",
              "      <td>9</td>\n",
              "    </tr>\n",
              "    <tr>\n",
              "      <th>391</th>\n",
              "      <td>MS</td>\n",
              "      <td>M</td>\n",
              "      <td>17</td>\n",
              "      <td>U</td>\n",
              "      <td>LE3</td>\n",
              "      <td>T</td>\n",
              "      <td>3</td>\n",
              "      <td>1</td>\n",
              "      <td>services</td>\n",
              "      <td>services</td>\n",
              "      <td>...</td>\n",
              "      <td>2.0</td>\n",
              "      <td>4</td>\n",
              "      <td>5</td>\n",
              "      <td>3</td>\n",
              "      <td>4</td>\n",
              "      <td>2.0</td>\n",
              "      <td>3.0</td>\n",
              "      <td>14.0</td>\n",
              "      <td>16</td>\n",
              "      <td>16</td>\n",
              "    </tr>\n",
              "    <tr>\n",
              "      <th>392</th>\n",
              "      <td>MS</td>\n",
              "      <td>M</td>\n",
              "      <td>21</td>\n",
              "      <td>R</td>\n",
              "      <td>GT3</td>\n",
              "      <td>T</td>\n",
              "      <td>1</td>\n",
              "      <td>1</td>\n",
              "      <td>other</td>\n",
              "      <td>other</td>\n",
              "      <td>...</td>\n",
              "      <td>5.0</td>\n",
              "      <td>5</td>\n",
              "      <td>3</td>\n",
              "      <td>3</td>\n",
              "      <td>3</td>\n",
              "      <td>3.0</td>\n",
              "      <td>3.0</td>\n",
              "      <td>10.0</td>\n",
              "      <td>8</td>\n",
              "      <td>7</td>\n",
              "    </tr>\n",
              "    <tr>\n",
              "      <th>393</th>\n",
              "      <td>MS</td>\n",
              "      <td>M</td>\n",
              "      <td>18</td>\n",
              "      <td>R</td>\n",
              "      <td>LE3</td>\n",
              "      <td>T</td>\n",
              "      <td>3</td>\n",
              "      <td>2</td>\n",
              "      <td>services</td>\n",
              "      <td>other</td>\n",
              "      <td>...</td>\n",
              "      <td>4.0</td>\n",
              "      <td>4</td>\n",
              "      <td>1</td>\n",
              "      <td>3</td>\n",
              "      <td>4</td>\n",
              "      <td>5.0</td>\n",
              "      <td>0.0</td>\n",
              "      <td>11.0</td>\n",
              "      <td>12</td>\n",
              "      <td>10</td>\n",
              "    </tr>\n",
              "    <tr>\n",
              "      <th>394</th>\n",
              "      <td>MS</td>\n",
              "      <td>M</td>\n",
              "      <td>19</td>\n",
              "      <td>U</td>\n",
              "      <td>LE3</td>\n",
              "      <td>T</td>\n",
              "      <td>1</td>\n",
              "      <td>1</td>\n",
              "      <td>other</td>\n",
              "      <td>at_home</td>\n",
              "      <td>...</td>\n",
              "      <td>3.0</td>\n",
              "      <td>2</td>\n",
              "      <td>3</td>\n",
              "      <td>3</td>\n",
              "      <td>3</td>\n",
              "      <td>5.0</td>\n",
              "      <td>5.0</td>\n",
              "      <td>8.0</td>\n",
              "      <td>9</td>\n",
              "      <td>9</td>\n",
              "    </tr>\n",
              "  </tbody>\n",
              "</table>\n",
              "<p>395 rows × 33 columns</p>\n",
              "</div>\n",
              "      <button class=\"colab-df-convert\" onclick=\"convertToInteractive('df-75c62a3e-496c-4764-ba26-eb23c7dd9f2b')\"\n",
              "              title=\"Convert this dataframe to an interactive table.\"\n",
              "              style=\"display:none;\">\n",
              "        \n",
              "  <svg xmlns=\"http://www.w3.org/2000/svg\" height=\"24px\"viewBox=\"0 0 24 24\"\n",
              "       width=\"24px\">\n",
              "    <path d=\"M0 0h24v24H0V0z\" fill=\"none\"/>\n",
              "    <path d=\"M18.56 5.44l.94 2.06.94-2.06 2.06-.94-2.06-.94-.94-2.06-.94 2.06-2.06.94zm-11 1L8.5 8.5l.94-2.06 2.06-.94-2.06-.94L8.5 2.5l-.94 2.06-2.06.94zm10 10l.94 2.06.94-2.06 2.06-.94-2.06-.94-.94-2.06-.94 2.06-2.06.94z\"/><path d=\"M17.41 7.96l-1.37-1.37c-.4-.4-.92-.59-1.43-.59-.52 0-1.04.2-1.43.59L10.3 9.45l-7.72 7.72c-.78.78-.78 2.05 0 2.83L4 21.41c.39.39.9.59 1.41.59.51 0 1.02-.2 1.41-.59l7.78-7.78 2.81-2.81c.8-.78.8-2.07 0-2.86zM5.41 20L4 18.59l7.72-7.72 1.47 1.35L5.41 20z\"/>\n",
              "  </svg>\n",
              "      </button>\n",
              "      \n",
              "  <style>\n",
              "    .colab-df-container {\n",
              "      display:flex;\n",
              "      flex-wrap:wrap;\n",
              "      gap: 12px;\n",
              "    }\n",
              "\n",
              "    .colab-df-convert {\n",
              "      background-color: #E8F0FE;\n",
              "      border: none;\n",
              "      border-radius: 50%;\n",
              "      cursor: pointer;\n",
              "      display: none;\n",
              "      fill: #1967D2;\n",
              "      height: 32px;\n",
              "      padding: 0 0 0 0;\n",
              "      width: 32px;\n",
              "    }\n",
              "\n",
              "    .colab-df-convert:hover {\n",
              "      background-color: #E2EBFA;\n",
              "      box-shadow: 0px 1px 2px rgba(60, 64, 67, 0.3), 0px 1px 3px 1px rgba(60, 64, 67, 0.15);\n",
              "      fill: #174EA6;\n",
              "    }\n",
              "\n",
              "    [theme=dark] .colab-df-convert {\n",
              "      background-color: #3B4455;\n",
              "      fill: #D2E3FC;\n",
              "    }\n",
              "\n",
              "    [theme=dark] .colab-df-convert:hover {\n",
              "      background-color: #434B5C;\n",
              "      box-shadow: 0px 1px 3px 1px rgba(0, 0, 0, 0.15);\n",
              "      filter: drop-shadow(0px 1px 2px rgba(0, 0, 0, 0.3));\n",
              "      fill: #FFFFFF;\n",
              "    }\n",
              "  </style>\n",
              "\n",
              "      <script>\n",
              "        const buttonEl =\n",
              "          document.querySelector('#df-75c62a3e-496c-4764-ba26-eb23c7dd9f2b button.colab-df-convert');\n",
              "        buttonEl.style.display =\n",
              "          google.colab.kernel.accessAllowed ? 'block' : 'none';\n",
              "\n",
              "        async function convertToInteractive(key) {\n",
              "          const element = document.querySelector('#df-75c62a3e-496c-4764-ba26-eb23c7dd9f2b');\n",
              "          const dataTable =\n",
              "            await google.colab.kernel.invokeFunction('convertToInteractive',\n",
              "                                                     [key], {});\n",
              "          if (!dataTable) return;\n",
              "\n",
              "          const docLinkHtml = 'Like what you see? Visit the ' +\n",
              "            '<a target=\"_blank\" href=https://colab.research.google.com/notebooks/data_table.ipynb>data table notebook</a>'\n",
              "            + ' to learn more about interactive tables.';\n",
              "          element.innerHTML = '';\n",
              "          dataTable['output_type'] = 'display_data';\n",
              "          await google.colab.output.renderOutput(dataTable, element);\n",
              "          const docLink = document.createElement('div');\n",
              "          docLink.innerHTML = docLinkHtml;\n",
              "          element.appendChild(docLink);\n",
              "        }\n",
              "      </script>\n",
              "    </div>\n",
              "  </div>\n",
              "  "
            ]
          },
          "metadata": {},
          "execution_count": 8
        }
      ]
    },
    {
      "cell_type": "code",
      "source": [
        "print('Matematicas')\n",
        "print('Individuos:', Matematicas.shape[0])\n",
        "print('Variables:', Matematicas.shape[1])"
      ],
      "metadata": {
        "colab": {
          "base_uri": "https://localhost:8080/"
        },
        "id": "rW62aTEkBhvs",
        "outputId": "a0a565e5-1e0e-4a9e-a988-1dc11266dec6"
      },
      "execution_count": 9,
      "outputs": [
        {
          "output_type": "stream",
          "name": "stdout",
          "text": [
            "Matematicas\n",
            "Individuos: 395\n",
            "Variables: 33\n"
          ]
        }
      ]
    },
    {
      "cell_type": "markdown",
      "source": [
        "*Datos faltantes*"
      ],
      "metadata": {
        "id": "DSfsPrUPGq6i"
      }
    },
    {
      "cell_type": "code",
      "source": [
        "Matematicas.dtypes"
      ],
      "metadata": {
        "id": "xAQgzQOXBqGS",
        "colab": {
          "base_uri": "https://localhost:8080/"
        },
        "outputId": "9cd1188e-5e4b-411a-f3c3-a54c6ea4794a"
      },
      "execution_count": 10,
      "outputs": [
        {
          "output_type": "execute_result",
          "data": {
            "text/plain": [
              "school         object\n",
              "sex            object\n",
              "age             int64\n",
              "address        object\n",
              "famsize        object\n",
              "Pstatus        object\n",
              "Medu            int64\n",
              "Fedu            int64\n",
              "Mjob           object\n",
              "Fjob           object\n",
              "reason         object\n",
              "guardian       object\n",
              "traveltime      int64\n",
              "studytime       int64\n",
              "failures        int64\n",
              "schoolsup      object\n",
              "famsup         object\n",
              "paid           object\n",
              "activities     object\n",
              "nursery        object\n",
              "higher         object\n",
              "internet       object\n",
              "romantic       object\n",
              "famrel        float64\n",
              "freetime        int64\n",
              "goout           int64\n",
              "Dalc            int64\n",
              "Walc            int64\n",
              "health        float64\n",
              "absences      float64\n",
              "G1            float64\n",
              "G2              int64\n",
              "G3              int64\n",
              "dtype: object"
            ]
          },
          "metadata": {},
          "execution_count": 10
        }
      ]
    },
    {
      "cell_type": "code",
      "source": [
        "for col in Matematicas.columns:\n",
        "    num_missing = Matematicas[col].isnull().sum()\n",
        "    pct_missing = np.mean(Matematicas[col].isnull())\n",
        "    print('{} - {}% - {}'.format(col,round(pct_missing*100, 2),num_missing))"
      ],
      "metadata": {
        "colab": {
          "base_uri": "https://localhost:8080/"
        },
        "id": "Pz4zxOmZGKhN",
        "outputId": "b4272053-ca3d-470a-d274-6bf4fd833a38"
      },
      "execution_count": 11,
      "outputs": [
        {
          "output_type": "stream",
          "name": "stdout",
          "text": [
            "school - 0.0% - 0\n",
            "sex - 0.25% - 1\n",
            "age - 0.0% - 0\n",
            "address - 0.51% - 2\n",
            "famsize - 0.25% - 1\n",
            "Pstatus - 0.0% - 0\n",
            "Medu - 0.0% - 0\n",
            "Fedu - 0.0% - 0\n",
            "Mjob - 0.25% - 1\n",
            "Fjob - 0.0% - 0\n",
            "reason - 0.25% - 1\n",
            "guardian - 0.0% - 0\n",
            "traveltime - 0.0% - 0\n",
            "studytime - 0.0% - 0\n",
            "failures - 0.0% - 0\n",
            "schoolsup - 0.25% - 1\n",
            "famsup - 0.0% - 0\n",
            "paid - 0.51% - 2\n",
            "activities - 0.51% - 2\n",
            "nursery - 0.0% - 0\n",
            "higher - 0.25% - 1\n",
            "internet - 0.0% - 0\n",
            "romantic - 0.0% - 0\n",
            "famrel - 0.25% - 1\n",
            "freetime - 0.0% - 0\n",
            "goout - 0.0% - 0\n",
            "Dalc - 0.0% - 0\n",
            "Walc - 0.0% - 0\n",
            "health - 0.25% - 1\n",
            "absences - 0.25% - 1\n",
            "G1 - 0.25% - 1\n",
            "G2 - 0.0% - 0\n",
            "G3 - 0.0% - 0\n"
          ]
        }
      ]
    },
    {
      "cell_type": "markdown",
      "source": [
        "*Imputación*"
      ],
      "metadata": {
        "id": "dRr-wh2UGwtF"
      }
    },
    {
      "cell_type": "code",
      "source": [
        "v_fal_cuan = ['absences','G1']"
      ],
      "metadata": {
        "id": "YV7KlDbnGHfe"
      },
      "execution_count": 12,
      "outputs": []
    },
    {
      "cell_type": "code",
      "source": [
        "v_fal_cuali = ['sex', 'address', 'famsize', 'Mjob', 'reason', 'schoolsup', 'paid', 'activities', 'higher',\n",
        "'famrel', 'health' , 'absences']"
      ],
      "metadata": {
        "id": "JLkucoIRHVp0"
      },
      "execution_count": 13,
      "outputs": []
    },
    {
      "cell_type": "markdown",
      "source": [
        "**Cuantitativas**"
      ],
      "metadata": {
        "id": "fe87pnDcIGet"
      }
    },
    {
      "cell_type": "code",
      "source": [
        "Matematicas['absences'][Matematicas['absences'].isna()] = Matematicas['absences'].mean()\n",
        "Matematicas['G1'][Matematicas['G1'].isna()] = Matematicas['G1'].mean()"
      ],
      "metadata": {
        "id": "FtpnP_h9H68l"
      },
      "execution_count": null,
      "outputs": []
    },
    {
      "cell_type": "markdown",
      "source": [
        "**Cualitativas**"
      ],
      "metadata": {
        "id": "VlQjpIROIf2n"
      }
    },
    {
      "cell_type": "code",
      "source": [
        "Matematicas['sex'][Matematicas['sex'].isna()] = mode(Matematicas['sex'])\n",
        "Matematicas['address'][Matematicas['address'].isna()] = mode(Matematicas['address'])\n",
        "Matematicas['famsize'][Matematicas['famsize'].isna()] = mode(Matematicas['famsize'])\n",
        "Matematicas['Mjob'][Matematicas['Mjob'].isna()] = mode(Matematicas['Mjob'])\n",
        "Matematicas['reason'][Matematicas['reason'].isna()] = mode(Matematicas['reason'])\n",
        "Matematicas['schoolsup'][Matematicas['schoolsup'].isna()] = mode(Matematicas['schoolsup'])\n",
        "Matematicas['paid'][Matematicas['paid'].isna()] = mode(Matematicas['paid'])\n",
        "Matematicas['activities'][Matematicas['activities'].isna()] = mode(Matematicas['activities'])\n",
        "Matematicas['higher'][Matematicas['higher'].isna()] = mode(Matematicas['higher'])\n",
        "Matematicas['famrel'][Matematicas['famrel'].isna()] = mode(Matematicas['famrel'])\n",
        "Matematicas['health'][Matematicas['health'].isna()] = mode(Matematicas['health'])\n",
        "Matematicas['absences'][Matematicas['absences'].isna()] = mode(Matematicas['absences'])\n"
      ],
      "metadata": {
        "id": "PxcMt5R1Kkdw"
      },
      "execution_count": null,
      "outputs": []
    },
    {
      "cell_type": "code",
      "source": [
        "for col in Matematicas.columns:\n",
        "    num_missing = Matematicas[col].isnull().sum()\n",
        "    pct_missing = np.mean(Matematicas[col].isnull())\n",
        "    print('{} - {}% - {}'.format(col,round(pct_missing*100, 2),num_missing))"
      ],
      "metadata": {
        "colab": {
          "base_uri": "https://localhost:8080/"
        },
        "id": "tnkdzDUBKZmc",
        "outputId": "8821466b-87cc-4297-caae-d750343661dc"
      },
      "execution_count": 16,
      "outputs": [
        {
          "output_type": "stream",
          "name": "stdout",
          "text": [
            "school - 0.0% - 0\n",
            "sex - 0.0% - 0\n",
            "age - 0.0% - 0\n",
            "address - 0.0% - 0\n",
            "famsize - 0.0% - 0\n",
            "Pstatus - 0.0% - 0\n",
            "Medu - 0.0% - 0\n",
            "Fedu - 0.0% - 0\n",
            "Mjob - 0.0% - 0\n",
            "Fjob - 0.0% - 0\n",
            "reason - 0.0% - 0\n",
            "guardian - 0.0% - 0\n",
            "traveltime - 0.0% - 0\n",
            "studytime - 0.0% - 0\n",
            "failures - 0.0% - 0\n",
            "schoolsup - 0.0% - 0\n",
            "famsup - 0.0% - 0\n",
            "paid - 0.0% - 0\n",
            "activities - 0.0% - 0\n",
            "nursery - 0.0% - 0\n",
            "higher - 0.0% - 0\n",
            "internet - 0.0% - 0\n",
            "romantic - 0.0% - 0\n",
            "famrel - 0.0% - 0\n",
            "freetime - 0.0% - 0\n",
            "goout - 0.0% - 0\n",
            "Dalc - 0.0% - 0\n",
            "Walc - 0.0% - 0\n",
            "health - 0.0% - 0\n",
            "absences - 0.0% - 0\n",
            "G1 - 0.0% - 0\n",
            "G2 - 0.0% - 0\n",
            "G3 - 0.0% - 0\n"
          ]
        }
      ]
    },
    {
      "cell_type": "markdown",
      "source": [
        "*Consistencia de datos*"
      ],
      "metadata": {
        "id": "JFYiAYb4MXcv"
      }
    },
    {
      "cell_type": "code",
      "source": [
        "Matematicas[['age','absences', 'G1', 'G2', 'G3']].describe() "
      ],
      "metadata": {
        "colab": {
          "base_uri": "https://localhost:8080/",
          "height": 300
        },
        "id": "mFgbTN4yMZL6",
        "outputId": "02fa5b04-c87b-4d70-e909-9c490a4b05fe"
      },
      "execution_count": 17,
      "outputs": [
        {
          "output_type": "execute_result",
          "data": {
            "text/plain": [
              "              age    absences          G1          G2          G3\n",
              "count  395.000000  395.000000  395.000000  395.000000  395.000000\n",
              "mean    16.696203    5.723350   10.916244   10.764557   10.440506\n",
              "std      1.276043    7.997913    3.315950    3.858244    4.628688\n",
              "min     15.000000    0.000000    3.000000    0.000000    0.000000\n",
              "25%     16.000000    0.000000    8.000000    9.000000    8.000000\n",
              "50%     17.000000    4.000000   11.000000   11.000000   11.000000\n",
              "75%     18.000000    8.000000   13.000000   13.000000   14.000000\n",
              "max     22.000000   75.000000   19.000000   28.000000   24.000000"
            ],
            "text/html": [
              "\n",
              "  <div id=\"df-deeb4bcf-8060-4c26-9bce-22ab939a8bd9\">\n",
              "    <div class=\"colab-df-container\">\n",
              "      <div>\n",
              "<style scoped>\n",
              "    .dataframe tbody tr th:only-of-type {\n",
              "        vertical-align: middle;\n",
              "    }\n",
              "\n",
              "    .dataframe tbody tr th {\n",
              "        vertical-align: top;\n",
              "    }\n",
              "\n",
              "    .dataframe thead th {\n",
              "        text-align: right;\n",
              "    }\n",
              "</style>\n",
              "<table border=\"1\" class=\"dataframe\">\n",
              "  <thead>\n",
              "    <tr style=\"text-align: right;\">\n",
              "      <th></th>\n",
              "      <th>age</th>\n",
              "      <th>absences</th>\n",
              "      <th>G1</th>\n",
              "      <th>G2</th>\n",
              "      <th>G3</th>\n",
              "    </tr>\n",
              "  </thead>\n",
              "  <tbody>\n",
              "    <tr>\n",
              "      <th>count</th>\n",
              "      <td>395.000000</td>\n",
              "      <td>395.000000</td>\n",
              "      <td>395.000000</td>\n",
              "      <td>395.000000</td>\n",
              "      <td>395.000000</td>\n",
              "    </tr>\n",
              "    <tr>\n",
              "      <th>mean</th>\n",
              "      <td>16.696203</td>\n",
              "      <td>5.723350</td>\n",
              "      <td>10.916244</td>\n",
              "      <td>10.764557</td>\n",
              "      <td>10.440506</td>\n",
              "    </tr>\n",
              "    <tr>\n",
              "      <th>std</th>\n",
              "      <td>1.276043</td>\n",
              "      <td>7.997913</td>\n",
              "      <td>3.315950</td>\n",
              "      <td>3.858244</td>\n",
              "      <td>4.628688</td>\n",
              "    </tr>\n",
              "    <tr>\n",
              "      <th>min</th>\n",
              "      <td>15.000000</td>\n",
              "      <td>0.000000</td>\n",
              "      <td>3.000000</td>\n",
              "      <td>0.000000</td>\n",
              "      <td>0.000000</td>\n",
              "    </tr>\n",
              "    <tr>\n",
              "      <th>25%</th>\n",
              "      <td>16.000000</td>\n",
              "      <td>0.000000</td>\n",
              "      <td>8.000000</td>\n",
              "      <td>9.000000</td>\n",
              "      <td>8.000000</td>\n",
              "    </tr>\n",
              "    <tr>\n",
              "      <th>50%</th>\n",
              "      <td>17.000000</td>\n",
              "      <td>4.000000</td>\n",
              "      <td>11.000000</td>\n",
              "      <td>11.000000</td>\n",
              "      <td>11.000000</td>\n",
              "    </tr>\n",
              "    <tr>\n",
              "      <th>75%</th>\n",
              "      <td>18.000000</td>\n",
              "      <td>8.000000</td>\n",
              "      <td>13.000000</td>\n",
              "      <td>13.000000</td>\n",
              "      <td>14.000000</td>\n",
              "    </tr>\n",
              "    <tr>\n",
              "      <th>max</th>\n",
              "      <td>22.000000</td>\n",
              "      <td>75.000000</td>\n",
              "      <td>19.000000</td>\n",
              "      <td>28.000000</td>\n",
              "      <td>24.000000</td>\n",
              "    </tr>\n",
              "  </tbody>\n",
              "</table>\n",
              "</div>\n",
              "      <button class=\"colab-df-convert\" onclick=\"convertToInteractive('df-deeb4bcf-8060-4c26-9bce-22ab939a8bd9')\"\n",
              "              title=\"Convert this dataframe to an interactive table.\"\n",
              "              style=\"display:none;\">\n",
              "        \n",
              "  <svg xmlns=\"http://www.w3.org/2000/svg\" height=\"24px\"viewBox=\"0 0 24 24\"\n",
              "       width=\"24px\">\n",
              "    <path d=\"M0 0h24v24H0V0z\" fill=\"none\"/>\n",
              "    <path d=\"M18.56 5.44l.94 2.06.94-2.06 2.06-.94-2.06-.94-.94-2.06-.94 2.06-2.06.94zm-11 1L8.5 8.5l.94-2.06 2.06-.94-2.06-.94L8.5 2.5l-.94 2.06-2.06.94zm10 10l.94 2.06.94-2.06 2.06-.94-2.06-.94-.94-2.06-.94 2.06-2.06.94z\"/><path d=\"M17.41 7.96l-1.37-1.37c-.4-.4-.92-.59-1.43-.59-.52 0-1.04.2-1.43.59L10.3 9.45l-7.72 7.72c-.78.78-.78 2.05 0 2.83L4 21.41c.39.39.9.59 1.41.59.51 0 1.02-.2 1.41-.59l7.78-7.78 2.81-2.81c.8-.78.8-2.07 0-2.86zM5.41 20L4 18.59l7.72-7.72 1.47 1.35L5.41 20z\"/>\n",
              "  </svg>\n",
              "      </button>\n",
              "      \n",
              "  <style>\n",
              "    .colab-df-container {\n",
              "      display:flex;\n",
              "      flex-wrap:wrap;\n",
              "      gap: 12px;\n",
              "    }\n",
              "\n",
              "    .colab-df-convert {\n",
              "      background-color: #E8F0FE;\n",
              "      border: none;\n",
              "      border-radius: 50%;\n",
              "      cursor: pointer;\n",
              "      display: none;\n",
              "      fill: #1967D2;\n",
              "      height: 32px;\n",
              "      padding: 0 0 0 0;\n",
              "      width: 32px;\n",
              "    }\n",
              "\n",
              "    .colab-df-convert:hover {\n",
              "      background-color: #E2EBFA;\n",
              "      box-shadow: 0px 1px 2px rgba(60, 64, 67, 0.3), 0px 1px 3px 1px rgba(60, 64, 67, 0.15);\n",
              "      fill: #174EA6;\n",
              "    }\n",
              "\n",
              "    [theme=dark] .colab-df-convert {\n",
              "      background-color: #3B4455;\n",
              "      fill: #D2E3FC;\n",
              "    }\n",
              "\n",
              "    [theme=dark] .colab-df-convert:hover {\n",
              "      background-color: #434B5C;\n",
              "      box-shadow: 0px 1px 3px 1px rgba(0, 0, 0, 0.15);\n",
              "      filter: drop-shadow(0px 1px 2px rgba(0, 0, 0, 0.3));\n",
              "      fill: #FFFFFF;\n",
              "    }\n",
              "  </style>\n",
              "\n",
              "      <script>\n",
              "        const buttonEl =\n",
              "          document.querySelector('#df-deeb4bcf-8060-4c26-9bce-22ab939a8bd9 button.colab-df-convert');\n",
              "        buttonEl.style.display =\n",
              "          google.colab.kernel.accessAllowed ? 'block' : 'none';\n",
              "\n",
              "        async function convertToInteractive(key) {\n",
              "          const element = document.querySelector('#df-deeb4bcf-8060-4c26-9bce-22ab939a8bd9');\n",
              "          const dataTable =\n",
              "            await google.colab.kernel.invokeFunction('convertToInteractive',\n",
              "                                                     [key], {});\n",
              "          if (!dataTable) return;\n",
              "\n",
              "          const docLinkHtml = 'Like what you see? Visit the ' +\n",
              "            '<a target=\"_blank\" href=https://colab.research.google.com/notebooks/data_table.ipynb>data table notebook</a>'\n",
              "            + ' to learn more about interactive tables.';\n",
              "          element.innerHTML = '';\n",
              "          dataTable['output_type'] = 'display_data';\n",
              "          await google.colab.output.renderOutput(dataTable, element);\n",
              "          const docLink = document.createElement('div');\n",
              "          docLink.innerHTML = docLinkHtml;\n",
              "          element.appendChild(docLink);\n",
              "        }\n",
              "      </script>\n",
              "    </div>\n",
              "  </div>\n",
              "  "
            ]
          },
          "metadata": {},
          "execution_count": 17
        }
      ]
    },
    {
      "cell_type": "code",
      "source": [
        "Matematicas['G2'][(Matematicas['G2'] > 20)] = Matematicas['G2'].mean()"
      ],
      "metadata": {
        "id": "T6B6PGxEMoEX"
      },
      "execution_count": null,
      "outputs": []
    },
    {
      "cell_type": "code",
      "source": [
        "Matematicas['G3'][(Matematicas['G3'] > 20)] = Matematicas['G3'].mean()"
      ],
      "metadata": {
        "id": "PmSLkivUNYlD"
      },
      "execution_count": null,
      "outputs": []
    },
    {
      "cell_type": "code",
      "source": [
        "Matematicas['sex'][Matematicas['sex'] == 'B'] = 'F'\n",
        "Matematicas['Pstatus'][Matematicas['Pstatus'] == 'Z'] = 'T'\n",
        "\n"
      ],
      "metadata": {
        "id": "V-OZLoXGO-Dq"
      },
      "execution_count": null,
      "outputs": []
    },
    {
      "cell_type": "code",
      "source": [
        "v_categoricas = ['school', 'traveltime', 'studytime', 'failures',  'sex',  'address', 'famsize', 'Pstatus', 'Medu', 'Fedu',\n",
        "       'Mjob', 'Fjob', 'reason', 'guardian', 'schoolsup', 'famsup', 'paid', 'activities', 'nursery',\n",
        "       'higher', 'internet','romantic','famrel','freetime', 'goout', 'Dalc', 'Walc', 'health']"
      ],
      "metadata": {
        "id": "PNhfJf0YNhjQ"
      },
      "execution_count": 21,
      "outputs": []
    },
    {
      "cell_type": "code",
      "source": [
        "for j in v_categoricas:\n",
        "    print(Matematicas[j].value_counts())"
      ],
      "metadata": {
        "colab": {
          "base_uri": "https://localhost:8080/"
        },
        "id": "qu8ifllkNVnL",
        "outputId": "4b1c6cbf-915a-48bf-a960-48af48c51416"
      },
      "execution_count": 22,
      "outputs": [
        {
          "output_type": "stream",
          "name": "stdout",
          "text": [
            "GP    349\n",
            "MS     46\n",
            "Name: school, dtype: int64\n",
            "1    257\n",
            "2    107\n",
            "3     23\n",
            "4      8\n",
            "Name: traveltime, dtype: int64\n",
            "2    198\n",
            "1    105\n",
            "3     65\n",
            "4     27\n",
            "Name: studytime, dtype: int64\n",
            "0    312\n",
            "1     50\n",
            "2     17\n",
            "3     16\n",
            "Name: failures, dtype: int64\n",
            "F    209\n",
            "M    186\n",
            "Name: sex, dtype: int64\n",
            "U    308\n",
            "R     87\n",
            "Name: address, dtype: int64\n",
            "GT3    282\n",
            "LE3    113\n",
            "Name: famsize, dtype: int64\n",
            "T    354\n",
            "A     41\n",
            "Name: Pstatus, dtype: int64\n",
            "4    131\n",
            "2    103\n",
            "3     99\n",
            "1     59\n",
            "0      3\n",
            "Name: Medu, dtype: int64\n",
            "2    115\n",
            "3    100\n",
            "4     96\n",
            "1     82\n",
            "0      2\n",
            "Name: Fedu, dtype: int64\n",
            "other       141\n",
            "services    103\n",
            "at_home      59\n",
            "teacher      58\n",
            "health       34\n",
            "Name: Mjob, dtype: int64\n",
            "other       217\n",
            "services    111\n",
            "teacher      29\n",
            "at_home      20\n",
            "health       18\n",
            "Name: Fjob, dtype: int64\n",
            "course        146\n",
            "home          108\n",
            "reputation    104\n",
            "other          36\n",
            "Reputation      1\n",
            "Name: reason, dtype: int64\n",
            "mother    272\n",
            "father     90\n",
            "other      32\n",
            "Mother      1\n",
            "Name: guardian, dtype: int64\n",
            "no     343\n",
            "yes     51\n",
            "No       1\n",
            "Name: schoolsup, dtype: int64\n",
            "yes    242\n",
            "no     152\n",
            "No       1\n",
            "Name: famsup, dtype: int64\n",
            "no     215\n",
            "yes    179\n",
            "No       1\n",
            "Name: paid, dtype: int64\n",
            "yes    201\n",
            "no     193\n",
            "No       1\n",
            "Name: activities, dtype: int64\n",
            "yes    313\n",
            "no      80\n",
            "Yes      1\n",
            "No       1\n",
            "Name: nursery, dtype: int64\n",
            "yes    373\n",
            "no      20\n",
            "Yes      2\n",
            "Name: higher, dtype: int64\n",
            "yes    329\n",
            "no      65\n",
            "No       1\n",
            "Name: internet, dtype: int64\n",
            "no     263\n",
            "yes    132\n",
            "Name: romantic, dtype: int64\n",
            "4.0    195\n",
            "5.0    106\n",
            "3.0     68\n",
            "2.0     18\n",
            "1.0      8\n",
            "Name: famrel, dtype: int64\n",
            "3    157\n",
            "4    115\n",
            "2     64\n",
            "5     40\n",
            "1     19\n",
            "Name: freetime, dtype: int64\n",
            "3    130\n",
            "2    103\n",
            "4     86\n",
            "5     53\n",
            "1     23\n",
            "Name: goout, dtype: int64\n",
            "1    276\n",
            "2     75\n",
            "3     26\n",
            "5      9\n",
            "4      9\n",
            "Name: Dalc, dtype: int64\n",
            "1    151\n",
            "2     85\n",
            "3     80\n",
            "4     51\n",
            "5     28\n",
            "Name: Walc, dtype: int64\n",
            "5.0    147\n",
            "3.0     90\n",
            "4.0     66\n",
            "1.0     47\n",
            "2.0     45\n",
            "Name: health, dtype: int64\n"
          ]
        }
      ]
    },
    {
      "cell_type": "code",
      "source": [
        "Matematicas['internet'][Matematicas['internet'] == 'No'] = 'no'\n",
        "Matematicas['higher'][Matematicas['higher'] == 'Yes'] = 'yes'\n",
        "Matematicas['nursery'][Matematicas['nursery'] == 'Yes'] = 'yes'\n",
        "Matematicas['nursery'][Matematicas['nursery'] == 'No'] = 'no'\n",
        "Matematicas['activities'][Matematicas['activities'] == 'No'] = 'no'\n",
        "Matematicas['paid'][Matematicas['paid'] == 'No'] = 'no'\n",
        "Matematicas['famsup'][Matematicas['famsup'] == 'No'] = 'no'\n",
        "Matematicas['schoolsup'][Matematicas['schoolsup'] == 'No'] = 'no'"
      ],
      "metadata": {
        "id": "PoXsRpyjRBuX"
      },
      "execution_count": null,
      "outputs": []
    },
    {
      "cell_type": "code",
      "source": [
        "for j in v_categoricas:\n",
        "    print(Matematicas[j].value_counts())"
      ],
      "metadata": {
        "colab": {
          "base_uri": "https://localhost:8080/"
        },
        "id": "_AMnoJrHOta_",
        "outputId": "ad45fe19-8ea7-45ae-cc0a-21addf09251d"
      },
      "execution_count": 24,
      "outputs": [
        {
          "output_type": "stream",
          "name": "stdout",
          "text": [
            "GP    349\n",
            "MS     46\n",
            "Name: school, dtype: int64\n",
            "1    257\n",
            "2    107\n",
            "3     23\n",
            "4      8\n",
            "Name: traveltime, dtype: int64\n",
            "2    198\n",
            "1    105\n",
            "3     65\n",
            "4     27\n",
            "Name: studytime, dtype: int64\n",
            "0    312\n",
            "1     50\n",
            "2     17\n",
            "3     16\n",
            "Name: failures, dtype: int64\n",
            "F    209\n",
            "M    186\n",
            "Name: sex, dtype: int64\n",
            "U    308\n",
            "R     87\n",
            "Name: address, dtype: int64\n",
            "GT3    282\n",
            "LE3    113\n",
            "Name: famsize, dtype: int64\n",
            "T    354\n",
            "A     41\n",
            "Name: Pstatus, dtype: int64\n",
            "4    131\n",
            "2    103\n",
            "3     99\n",
            "1     59\n",
            "0      3\n",
            "Name: Medu, dtype: int64\n",
            "2    115\n",
            "3    100\n",
            "4     96\n",
            "1     82\n",
            "0      2\n",
            "Name: Fedu, dtype: int64\n",
            "other       141\n",
            "services    103\n",
            "at_home      59\n",
            "teacher      58\n",
            "health       34\n",
            "Name: Mjob, dtype: int64\n",
            "other       217\n",
            "services    111\n",
            "teacher      29\n",
            "at_home      20\n",
            "health       18\n",
            "Name: Fjob, dtype: int64\n",
            "course        146\n",
            "home          108\n",
            "reputation    104\n",
            "other          36\n",
            "Reputation      1\n",
            "Name: reason, dtype: int64\n",
            "mother    272\n",
            "father     90\n",
            "other      32\n",
            "Mother      1\n",
            "Name: guardian, dtype: int64\n",
            "no     344\n",
            "yes     51\n",
            "Name: schoolsup, dtype: int64\n",
            "yes    242\n",
            "no     153\n",
            "Name: famsup, dtype: int64\n",
            "no     216\n",
            "yes    179\n",
            "Name: paid, dtype: int64\n",
            "yes    201\n",
            "no     194\n",
            "Name: activities, dtype: int64\n",
            "yes    314\n",
            "no      81\n",
            "Name: nursery, dtype: int64\n",
            "yes    375\n",
            "no      20\n",
            "Name: higher, dtype: int64\n",
            "yes    329\n",
            "no      66\n",
            "Name: internet, dtype: int64\n",
            "no     263\n",
            "yes    132\n",
            "Name: romantic, dtype: int64\n",
            "4.0    195\n",
            "5.0    106\n",
            "3.0     68\n",
            "2.0     18\n",
            "1.0      8\n",
            "Name: famrel, dtype: int64\n",
            "3    157\n",
            "4    115\n",
            "2     64\n",
            "5     40\n",
            "1     19\n",
            "Name: freetime, dtype: int64\n",
            "3    130\n",
            "2    103\n",
            "4     86\n",
            "5     53\n",
            "1     23\n",
            "Name: goout, dtype: int64\n",
            "1    276\n",
            "2     75\n",
            "3     26\n",
            "5      9\n",
            "4      9\n",
            "Name: Dalc, dtype: int64\n",
            "1    151\n",
            "2     85\n",
            "3     80\n",
            "4     51\n",
            "5     28\n",
            "Name: Walc, dtype: int64\n",
            "5.0    147\n",
            "3.0     90\n",
            "4.0     66\n",
            "1.0     47\n",
            "2.0     45\n",
            "Name: health, dtype: int64\n"
          ]
        }
      ]
    },
    {
      "cell_type": "markdown",
      "source": [
        "De las 33 variables que componen la Base de datos, 14 Variables tienen al menos un\n",
        "registro faltante, de las cuales 12 son cualitativas y 2 cuantitativas, se imputaron\n",
        "estos valores por medio de la moda y media respectivamente. En la consistencia de\n",
        "datos las variables G2 y G3 tomaban valores mayores 20, posiblemente por un error\n",
        "en la digitación de estos, por lo tanto, se cambiaron estos valores por la media\n",
        "de la variable, además, en las variables cualitativas ocurrió que se digitaron\n",
        "modalidades inexistentes, esta se remplazó por la moda de la variable\n",
        ", por último, se arreglaron los problemas de digitación que existían \n",
        "en las variables cualitativas, donde se tenían mismas modalidades con y sin \n",
        "mayúscula produciendo así que el programa las entienda como diferentes.\n"
      ],
      "metadata": {
        "id": "DvEEw_6kSQIS"
      }
    },
    {
      "cell_type": "markdown",
      "source": [
        "# Punto 2"
      ],
      "metadata": {
        "id": "GYiZ7h6XSVMz"
      }
    },
    {
      "cell_type": "markdown",
      "source": [
        "*Variable de interes*\n",
        "\n",
        "De los individuos analizados, la nota mínima que se obtuvo es de $0$, mientras que la máxima nota es de $20$, que es la máxima que se podría alcanzar, el promedio de la nota del tercer periodo es $10.406$ unidades. La distribución de las notas es aparentemente simétrica, pese a un pico que se observa en las notas cercanas a cero, además, no cuenta con la posible presencia de valores atípicos."
      ],
      "metadata": {
        "id": "Mep9BXPnT9dd"
      }
    },
    {
      "cell_type": "code",
      "source": [
        "Matematicas['G3'].describe()"
      ],
      "metadata": {
        "colab": {
          "base_uri": "https://localhost:8080/"
        },
        "id": "o0xER-rXTC2O",
        "outputId": "d306b0a4-1b73-4021-e58a-988d3bc9b34a"
      },
      "execution_count": 26,
      "outputs": [
        {
          "output_type": "execute_result",
          "data": {
            "text/plain": [
              "count    395.000000\n",
              "mean      10.406178\n",
              "std        4.577873\n",
              "min        0.000000\n",
              "25%        8.000000\n",
              "50%       11.000000\n",
              "75%       13.500000\n",
              "max       20.000000\n",
              "Name: G3, dtype: float64"
            ]
          },
          "metadata": {},
          "execution_count": 26
        }
      ]
    },
    {
      "cell_type": "code",
      "source": [
        "plt.boxplot(Matematicas['G3'])"
      ],
      "metadata": {
        "colab": {
          "base_uri": "https://localhost:8080/",
          "height": 411
        },
        "id": "58lDfr6YTF-M",
        "outputId": "0739fa71-2371-4433-f338-59fa9d44f85f"
      },
      "execution_count": 27,
      "outputs": [
        {
          "output_type": "execute_result",
          "data": {
            "text/plain": [
              "{'whiskers': [<matplotlib.lines.Line2D at 0x7f859a851890>,\n",
              "  <matplotlib.lines.Line2D at 0x7f859a851dd0>],\n",
              " 'caps': [<matplotlib.lines.Line2D at 0x7f859a85c350>,\n",
              "  <matplotlib.lines.Line2D at 0x7f859a85c890>],\n",
              " 'boxes': [<matplotlib.lines.Line2D at 0x7f859a851350>],\n",
              " 'medians': [<matplotlib.lines.Line2D at 0x7f859a85ce10>],\n",
              " 'fliers': [<matplotlib.lines.Line2D at 0x7f859a862390>],\n",
              " 'means': []}"
            ]
          },
          "metadata": {},
          "execution_count": 27
        },
        {
          "output_type": "display_data",
          "data": {
            "text/plain": [
              "<Figure size 432x288 with 1 Axes>"
            ],
            "image/png": "[encoded data removed]"
          },
          "metadata": {
            "needs_background": "light"
          }
        }
      ]
    },
    {
      "cell_type": "code",
      "source": [
        "Matematicas['G3'].plot.density(color='blue') \n",
        "plt.title('Densidad de las notas del tercer periodo') \n",
        "plt.show()"
      ],
      "metadata": {
        "colab": {
          "base_uri": "https://localhost:8080/",
          "height": 281
        },
        "id": "-hX_UbSsTFGN",
        "outputId": "90e43849-1dc8-4f7e-87f3-c58b91da20aa"
      },
      "execution_count": 28,
      "outputs": [
        {
          "output_type": "display_data",
          "data": {
            "text/plain": [
              "<Figure size 432x288 with 1 Axes>"
            ],
            "image/png": "[encoded data removed]"
          },
          "metadata": {
            "needs_background": "light"
          }
        }
      ]
    },
    {
      "cell_type": "markdown",
      "source": [
        "*Variables cuantitativas*"
      ],
      "metadata": {
        "id": "8TzooV5d32WC"
      }
    },
    {
      "cell_type": "code",
      "source": [
        "v_numericas =  ['age','absences', 'G1', 'G2', 'G3']\n",
        "v_categoricas"
      ],
      "metadata": {
        "id": "1xnSBPKZSXha"
      },
      "execution_count": null,
      "outputs": []
    },
    {
      "cell_type": "code",
      "source": [
        "Matematicas[v_numericas].describe()"
      ],
      "metadata": {
        "colab": {
          "base_uri": "https://localhost:8080/",
          "height": 300
        },
        "id": "L6VZYbvgSsNi",
        "outputId": "567b2457-5d6c-4af1-bd06-ab4fc0b43414"
      },
      "execution_count": 30,
      "outputs": [
        {
          "output_type": "execute_result",
          "data": {
            "text/plain": [
              "              age    absences          G1          G2          G3\n",
              "count  395.000000  395.000000  395.000000  395.000000  395.000000\n",
              "mean    16.696203    5.723350   10.916244   10.720923   10.406178\n",
              "std      1.276043    7.997913    3.315950    3.759013    4.577873\n",
              "min     15.000000    0.000000    3.000000    0.000000    0.000000\n",
              "25%     16.000000    0.000000    8.000000    9.000000    8.000000\n",
              "50%     17.000000    4.000000   11.000000   11.000000   11.000000\n",
              "75%     18.000000    8.000000   13.000000   13.000000   13.500000\n",
              "max     22.000000   75.000000   19.000000   19.000000   20.000000"
            ],
            "text/html": [
              "\n",
              "  <div id=\"df-1a7b8545-baee-4ab3-942f-d7456fadc1b6\">\n",
              "    <div class=\"colab-df-container\">\n",
              "      <div>\n",
              "<style scoped>\n",
              "    .dataframe tbody tr th:only-of-type {\n",
              "        vertical-align: middle;\n",
              "    }\n",
              "\n",
              "    .dataframe tbody tr th {\n",
              "        vertical-align: top;\n",
              "    }\n",
              "\n",
              "    .dataframe thead th {\n",
              "        text-align: right;\n",
              "    }\n",
              "</style>\n",
              "<table border=\"1\" class=\"dataframe\">\n",
              "  <thead>\n",
              "    <tr style=\"text-align: right;\">\n",
              "      <th></th>\n",
              "      <th>age</th>\n",
              "      <th>absences</th>\n",
              "      <th>G1</th>\n",
              "      <th>G2</th>\n",
              "      <th>G3</th>\n",
              "    </tr>\n",
              "  </thead>\n",
              "  <tbody>\n",
              "    <tr>\n",
              "      <th>count</th>\n",
              "      <td>395.000000</td>\n",
              "      <td>395.000000</td>\n",
              "      <td>395.000000</td>\n",
              "      <td>395.000000</td>\n",
              "      <td>395.000000</td>\n",
              "    </tr>\n",
              "    <tr>\n",
              "      <th>mean</th>\n",
              "      <td>16.696203</td>\n",
              "      <td>5.723350</td>\n",
              "      <td>10.916244</td>\n",
              "      <td>10.720923</td>\n",
              "      <td>10.406178</td>\n",
              "    </tr>\n",
              "    <tr>\n",
              "      <th>std</th>\n",
              "      <td>1.276043</td>\n",
              "      <td>7.997913</td>\n",
              "      <td>3.315950</td>\n",
              "      <td>3.759013</td>\n",
              "      <td>4.577873</td>\n",
              "    </tr>\n",
              "    <tr>\n",
              "      <th>min</th>\n",
              "      <td>15.000000</td>\n",
              "      <td>0.000000</td>\n",
              "      <td>3.000000</td>\n",
              "      <td>0.000000</td>\n",
              "      <td>0.000000</td>\n",
              "    </tr>\n",
              "    <tr>\n",
              "      <th>25%</th>\n",
              "      <td>16.000000</td>\n",
              "      <td>0.000000</td>\n",
              "      <td>8.000000</td>\n",
              "      <td>9.000000</td>\n",
              "      <td>8.000000</td>\n",
              "    </tr>\n",
              "    <tr>\n",
              "      <th>50%</th>\n",
              "      <td>17.000000</td>\n",
              "      <td>4.000000</td>\n",
              "      <td>11.000000</td>\n",
              "      <td>11.000000</td>\n",
              "      <td>11.000000</td>\n",
              "    </tr>\n",
              "    <tr>\n",
              "      <th>75%</th>\n",
              "      <td>18.000000</td>\n",
              "      <td>8.000000</td>\n",
              "      <td>13.000000</td>\n",
              "      <td>13.000000</td>\n",
              "      <td>13.500000</td>\n",
              "    </tr>\n",
              "    <tr>\n",
              "      <th>max</th>\n",
              "      <td>22.000000</td>\n",
              "      <td>75.000000</td>\n",
              "      <td>19.000000</td>\n",
              "      <td>19.000000</td>\n",
              "      <td>20.000000</td>\n",
              "    </tr>\n",
              "  </tbody>\n",
              "</table>\n",
              "</div>\n",
              "      <button class=\"colab-df-convert\" onclick=\"convertToInteractive('df-1a7b8545-baee-4ab3-942f-d7456fadc1b6')\"\n",
              "              title=\"Convert this dataframe to an interactive table.\"\n",
              "              style=\"display:none;\">\n",
              "        \n",
              "  <svg xmlns=\"http://www.w3.org/2000/svg\" height=\"24px\"viewBox=\"0 0 24 24\"\n",
              "       width=\"24px\">\n",
              "    <path d=\"M0 0h24v24H0V0z\" fill=\"none\"/>\n",
              "    <path d=\"M18.56 5.44l.94 2.06.94-2.06 2.06-.94-2.06-.94-.94-2.06-.94 2.06-2.06.94zm-11 1L8.5 8.5l.94-2.06 2.06-.94-2.06-.94L8.5 2.5l-.94 2.06-2.06.94zm10 10l.94 2.06.94-2.06 2.06-.94-2.06-.94-.94-2.06-.94 2.06-2.06.94z\"/><path d=\"M17.41 7.96l-1.37-1.37c-.4-.4-.92-.59-1.43-.59-.52 0-1.04.2-1.43.59L10.3 9.45l-7.72 7.72c-.78.78-.78 2.05 0 2.83L4 21.41c.39.39.9.59 1.41.59.51 0 1.02-.2 1.41-.59l7.78-7.78 2.81-2.81c.8-.78.8-2.07 0-2.86zM5.41 20L4 18.59l7.72-7.72 1.47 1.35L5.41 20z\"/>\n",
              "  </svg>\n",
              "      </button>\n",
              "      \n",
              "  <style>\n",
              "    .colab-df-container {\n",
              "      display:flex;\n",
              "      flex-wrap:wrap;\n",
              "      gap: 12px;\n",
              "    }\n",
              "\n",
              "    .colab-df-convert {\n",
              "      background-color: #E8F0FE;\n",
              "      border: none;\n",
              "      border-radius: 50%;\n",
              "      cursor: pointer;\n",
              "      display: none;\n",
              "      fill: #1967D2;\n",
              "      height: 32px;\n",
              "      padding: 0 0 0 0;\n",
              "      width: 32px;\n",
              "    }\n",
              "\n",
              "    .colab-df-convert:hover {\n",
              "      background-color: #E2EBFA;\n",
              "      box-shadow: 0px 1px 2px rgba(60, 64, 67, 0.3), 0px 1px 3px 1px rgba(60, 64, 67, 0.15);\n",
              "      fill: #174EA6;\n",
              "    }\n",
              "\n",
              "    [theme=dark] .colab-df-convert {\n",
              "      background-color: #3B4455;\n",
              "      fill: #D2E3FC;\n",
              "    }\n",
              "\n",
              "    [theme=dark] .colab-df-convert:hover {\n",
              "      background-color: #434B5C;\n",
              "      box-shadow: 0px 1px 3px 1px rgba(0, 0, 0, 0.15);\n",
              "      filter: drop-shadow(0px 1px 2px rgba(0, 0, 0, 0.3));\n",
              "      fill: #FFFFFF;\n",
              "    }\n",
              "  </style>\n",
              "\n",
              "      <script>\n",
              "        const buttonEl =\n",
              "          document.querySelector('#df-1a7b8545-baee-4ab3-942f-d7456fadc1b6 button.colab-df-convert');\n",
              "        buttonEl.style.display =\n",
              "          google.colab.kernel.accessAllowed ? 'block' : 'none';\n",
              "\n",
              "        async function convertToInteractive(key) {\n",
              "          const element = document.querySelector('#df-1a7b8545-baee-4ab3-942f-d7456fadc1b6');\n",
              "          const dataTable =\n",
              "            await google.colab.kernel.invokeFunction('convertToInteractive',\n",
              "                                                     [key], {});\n",
              "          if (!dataTable) return;\n",
              "\n",
              "          const docLinkHtml = 'Like what you see? Visit the ' +\n",
              "            '<a target=\"_blank\" href=https://colab.research.google.com/notebooks/data_table.ipynb>data table notebook</a>'\n",
              "            + ' to learn more about interactive tables.';\n",
              "          element.innerHTML = '';\n",
              "          dataTable['output_type'] = 'display_data';\n",
              "          await google.colab.output.renderOutput(dataTable, element);\n",
              "          const docLink = document.createElement('div');\n",
              "          docLink.innerHTML = docLinkHtml;\n",
              "          element.appendChild(docLink);\n",
              "        }\n",
              "      </script>\n",
              "    </div>\n",
              "  </div>\n",
              "  "
            ]
          },
          "metadata": {},
          "execution_count": 30
        }
      ]
    },
    {
      "cell_type": "markdown",
      "source": [
        "En la siguiente matriz de correlaciones se observa que la variable de interés $G3$ tiene una correlación alta con las notas de los periodos anteriores $G1$ correspondiente a la nota del primer corte y $G2$ nota del segundo corte. Además, entre estas dos variables se presenta también una alta asociación positiva. De manera gráfica se observa que estas relaciones son lineales, pese a algunos puntos que parecen atípicos."
      ],
      "metadata": {
        "id": "aG7PkYa_U9wp"
      }
    },
    {
      "cell_type": "code",
      "source": [
        "sns.heatmap(Matematicas[v_numericas].corr(),cmap=\"BrBG\",annot=True)"
      ],
      "metadata": {
        "colab": {
          "base_uri": "https://localhost:8080/",
          "height": 287
        },
        "id": "04UDyWDq0_qY",
        "outputId": "13995f80-79dd-476f-de6d-312772c85131"
      },
      "execution_count": 31,
      "outputs": [
        {
          "output_type": "execute_result",
          "data": {
            "text/plain": [
              "<matplotlib.axes._subplots.AxesSubplot at 0x7f859a346550>"
            ]
          },
          "metadata": {},
          "execution_count": 31
        },
        {
          "output_type": "display_data",
          "data": {
            "text/plain": [
              "<Figure size 432x288 with 2 Axes>"
            ],
            "image/png": "[encoded data removed]"
          },
          "metadata": {
            "needs_background": "light"
          }
        }
      ]
    },
    {
      "cell_type": "code",
      "source": [
        "sns.pairplot(Matematicas[v_numericas], diag_kind = 'hist', corner = True)"
      ],
      "metadata": {
        "colab": {
          "base_uri": "https://localhost:8080/",
          "height": 921
        },
        "id": "T5ut0qtVU6NO",
        "outputId": "dcd4465a-7c16-47f9-ca67-828de4cecafb"
      },
      "execution_count": 32,
      "outputs": [
        {
          "output_type": "execute_result",
          "data": {
            "text/plain": [
              "<seaborn.axisgrid.PairGrid at 0x7f859825ca10>"
            ]
          },
          "metadata": {},
          "execution_count": 32
        },
        {
          "output_type": "display_data",
          "data": {
            "text/plain": [
              "<Figure size 900x900 with 20 Axes>"
            ],
            "image/png": "[encoded data removed]"
          },
          "metadata": {
            "needs_background": "light"
          }
        }
      ]
    },
    {
      "cell_type": "markdown",
      "source": [
        "En este mismo sentido, las variables cuantitativas seleccionadas para la predicción de la nota del tercer periodo, son las notas de los dos períodos inmediatamente anteriores, dado que estos dos predictores están altamente correlacionadas, por lo tanto, se creará una variable adicional que es el promedio de las notas $G_1$ y $G_2$ y se espera esté correlacionada con $G_3$."
      ],
      "metadata": {
        "id": "dMa4zW8W1h2v"
      }
    },
    {
      "cell_type": "code",
      "source": [
        "Matematicas['Promedio'] = (Matematicas['G1'] + Matematicas['G2']) / 2"
      ],
      "metadata": {
        "id": "XjatpL_62Jyu"
      },
      "execution_count": 33,
      "outputs": []
    },
    {
      "cell_type": "code",
      "source": [
        "display(pg.corr(Matematicas['Promedio'], Matematicas['G3'], method='pearson'))"
      ],
      "metadata": {
        "colab": {
          "base_uri": "https://localhost:8080/",
          "height": 81
        },
        "id": "JAK-s21TS4K9",
        "outputId": "6f9adf7f-3c20-40f8-e271-8796330ee934"
      },
      "execution_count": 34,
      "outputs": [
        {
          "output_type": "display_data",
          "data": {
            "text/plain": [
              "           n         r         CI95%          p-val       BF10  power\n",
              "pearson  395  0.889268  [0.87, 0.91]  1.401833e-135  4.29e+131    1.0"
            ],
            "text/html": [
              "\n",
              "  <div id=\"df-88e59267-de2d-4d2f-aa3b-0d59f050ae6e\">\n",
              "    <div class=\"colab-df-container\">\n",
              "      <div>\n",
              "<style scoped>\n",
              "    .dataframe tbody tr th:only-of-type {\n",
              "        vertical-align: middle;\n",
              "    }\n",
              "\n",
              "    .dataframe tbody tr th {\n",
              "        vertical-align: top;\n",
              "    }\n",
              "\n",
              "    .dataframe thead th {\n",
              "        text-align: right;\n",
              "    }\n",
              "</style>\n",
              "<table border=\"1\" class=\"dataframe\">\n",
              "  <thead>\n",
              "    <tr style=\"text-align: right;\">\n",
              "      <th></th>\n",
              "      <th>n</th>\n",
              "      <th>r</th>\n",
              "      <th>CI95%</th>\n",
              "      <th>p-val</th>\n",
              "      <th>BF10</th>\n",
              "      <th>power</th>\n",
              "    </tr>\n",
              "  </thead>\n",
              "  <tbody>\n",
              "    <tr>\n",
              "      <th>pearson</th>\n",
              "      <td>395</td>\n",
              "      <td>0.889268</td>\n",
              "      <td>[0.87, 0.91]</td>\n",
              "      <td>1.401833e-135</td>\n",
              "      <td>4.29e+131</td>\n",
              "      <td>1.0</td>\n",
              "    </tr>\n",
              "  </tbody>\n",
              "</table>\n",
              "</div>\n",
              "      <button class=\"colab-df-convert\" onclick=\"convertToInteractive('df-88e59267-de2d-4d2f-aa3b-0d59f050ae6e')\"\n",
              "              title=\"Convert this dataframe to an interactive table.\"\n",
              "              style=\"display:none;\">\n",
              "        \n",
              "  <svg xmlns=\"http://www.w3.org/2000/svg\" height=\"24px\"viewBox=\"0 0 24 24\"\n",
              "       width=\"24px\">\n",
              "    <path d=\"M0 0h24v24H0V0z\" fill=\"none\"/>\n",
              "    <path d=\"M18.56 5.44l.94 2.06.94-2.06 2.06-.94-2.06-.94-.94-2.06-.94 2.06-2.06.94zm-11 1L8.5 8.5l.94-2.06 2.06-.94-2.06-.94L8.5 2.5l-.94 2.06-2.06.94zm10 10l.94 2.06.94-2.06 2.06-.94-2.06-.94-.94-2.06-.94 2.06-2.06.94z\"/><path d=\"M17.41 7.96l-1.37-1.37c-.4-.4-.92-.59-1.43-.59-.52 0-1.04.2-1.43.59L10.3 9.45l-7.72 7.72c-.78.78-.78 2.05 0 2.83L4 21.41c.39.39.9.59 1.41.59.51 0 1.02-.2 1.41-.59l7.78-7.78 2.81-2.81c.8-.78.8-2.07 0-2.86zM5.41 20L4 18.59l7.72-7.72 1.47 1.35L5.41 20z\"/>\n",
              "  </svg>\n",
              "      </button>\n",
              "      \n",
              "  <style>\n",
              "    .colab-df-container {\n",
              "      display:flex;\n",
              "      flex-wrap:wrap;\n",
              "      gap: 12px;\n",
              "    }\n",
              "\n",
              "    .colab-df-convert {\n",
              "      background-color: #E8F0FE;\n",
              "      border: none;\n",
              "      border-radius: 50%;\n",
              "      cursor: pointer;\n",
              "      display: none;\n",
              "      fill: #1967D2;\n",
              "      height: 32px;\n",
              "      padding: 0 0 0 0;\n",
              "      width: 32px;\n",
              "    }\n",
              "\n",
              "    .colab-df-convert:hover {\n",
              "      background-color: #E2EBFA;\n",
              "      box-shadow: 0px 1px 2px rgba(60, 64, 67, 0.3), 0px 1px 3px 1px rgba(60, 64, 67, 0.15);\n",
              "      fill: #174EA6;\n",
              "    }\n",
              "\n",
              "    [theme=dark] .colab-df-convert {\n",
              "      background-color: #3B4455;\n",
              "      fill: #D2E3FC;\n",
              "    }\n",
              "\n",
              "    [theme=dark] .colab-df-convert:hover {\n",
              "      background-color: #434B5C;\n",
              "      box-shadow: 0px 1px 3px 1px rgba(0, 0, 0, 0.15);\n",
              "      filter: drop-shadow(0px 1px 2px rgba(0, 0, 0, 0.3));\n",
              "      fill: #FFFFFF;\n",
              "    }\n",
              "  </style>\n",
              "\n",
              "      <script>\n",
              "        const buttonEl =\n",
              "          document.querySelector('#df-88e59267-de2d-4d2f-aa3b-0d59f050ae6e button.colab-df-convert');\n",
              "        buttonEl.style.display =\n",
              "          google.colab.kernel.accessAllowed ? 'block' : 'none';\n",
              "\n",
              "        async function convertToInteractive(key) {\n",
              "          const element = document.querySelector('#df-88e59267-de2d-4d2f-aa3b-0d59f050ae6e');\n",
              "          const dataTable =\n",
              "            await google.colab.kernel.invokeFunction('convertToInteractive',\n",
              "                                                     [key], {});\n",
              "          if (!dataTable) return;\n",
              "\n",
              "          const docLinkHtml = 'Like what you see? Visit the ' +\n",
              "            '<a target=\"_blank\" href=https://colab.research.google.com/notebooks/data_table.ipynb>data table notebook</a>'\n",
              "            + ' to learn more about interactive tables.';\n",
              "          element.innerHTML = '';\n",
              "          dataTable['output_type'] = 'display_data';\n",
              "          await google.colab.output.renderOutput(dataTable, element);\n",
              "          const docLink = document.createElement('div');\n",
              "          docLink.innerHTML = docLinkHtml;\n",
              "          element.appendChild(docLink);\n",
              "        }\n",
              "      </script>\n",
              "    </div>\n",
              "  </div>\n",
              "  "
            ]
          },
          "metadata": {}
        }
      ]
    },
    {
      "cell_type": "code",
      "source": [
        "sns.scatterplot(data = Matematicas,  x= 'Promedio' , y = 'G3')"
      ],
      "metadata": {
        "colab": {
          "base_uri": "https://localhost:8080/",
          "height": 297
        },
        "id": "uZjEswpo3DwL",
        "outputId": "6e0dcbd5-9e22-4254-8d63-400716965330"
      },
      "execution_count": 35,
      "outputs": [
        {
          "output_type": "execute_result",
          "data": {
            "text/plain": [
              "<matplotlib.axes._subplots.AxesSubplot at 0x7f8597983990>"
            ]
          },
          "metadata": {},
          "execution_count": 35
        },
        {
          "output_type": "display_data",
          "data": {
            "text/plain": [
              "<Figure size 432x288 with 1 Axes>"
            ],
            "image/png": "[encoded data removed]"
          },
          "metadata": {
            "needs_background": "light"
          }
        }
      ]
    },
    {
      "cell_type": "markdown",
      "source": [
        "Con lo cual, se observa que el promedio de las notas $G_1$ y $G_2$ tiene una alta correlación positiva con las notas del periodo tres, estadísticamente diferente de cero, gráficamente se observa que esta relación es lineal."
      ],
      "metadata": {
        "id": "1Fqgsu4d3TXZ"
      }
    },
    {
      "cell_type": "markdown",
      "source": [
        "*Variables cualitativas*\n",
        " \n",
        "Para analizar la asociación que tienen las variables cualitativas con las notas del periodo tres, se realiza una prueba $\\chi^2$, para contrastar si existe independencia entre las variable o, si por el contrario, existe algún tipo de dependencia que pueda ayudar para la estimación de $G_3$ en el modelo.\n"
      ],
      "metadata": {
        "id": "kLjGQhBF4Pds"
      }
    },
    {
      "cell_type": "code",
      "source": [
        "valores_p = []"
      ],
      "metadata": {
        "id": "SYIzL9Nr5TT3"
      },
      "execution_count": 36,
      "outputs": []
    },
    {
      "cell_type": "code",
      "source": [
        "for i in v_categoricas:\n",
        "  contingencia = pd.crosstab(Matematicas[i], Matematicas['G3'])\n",
        "  prueba = chi2_contingency(contingencia)\n",
        "  valores_p.append(round(prueba[1], 2))"
      ],
      "metadata": {
        "id": "gq1m9pBY4tzm"
      },
      "execution_count": 37,
      "outputs": []
    },
    {
      "cell_type": "code",
      "source": [
        "Boolean = pd.DataFrame(valores_p) < 0.05"
      ],
      "metadata": {
        "id": "jVZebOx745lv"
      },
      "execution_count": 38,
      "outputs": []
    },
    {
      "cell_type": "code",
      "source": [
        "pd.DataFrame(v_categoricas, Boolean)"
      ],
      "metadata": {
        "colab": {
          "base_uri": "https://localhost:8080/",
          "height": 927
        },
        "id": "h95E39-d6Ot5",
        "outputId": "610bc246-f1f6-4b49-fb31-03d6e481c3ae"
      },
      "execution_count": 39,
      "outputs": [
        {
          "output_type": "execute_result",
          "data": {
            "text/plain": [
              "                   0\n",
              "(False,)      school\n",
              "(False,)  traveltime\n",
              "(False,)   studytime\n",
              "(True,)     failures\n",
              "(False,)         sex\n",
              "(False,)     address\n",
              "(False,)     famsize\n",
              "(False,)     Pstatus\n",
              "(False,)        Medu\n",
              "(False,)        Fedu\n",
              "(True,)         Mjob\n",
              "(False,)        Fjob\n",
              "(False,)      reason\n",
              "(True,)     guardian\n",
              "(True,)    schoolsup\n",
              "(False,)      famsup\n",
              "(True,)         paid\n",
              "(False,)  activities\n",
              "(False,)     nursery\n",
              "(False,)      higher\n",
              "(False,)    internet\n",
              "(True,)     romantic\n",
              "(False,)      famrel\n",
              "(False,)    freetime\n",
              "(False,)       goout\n",
              "(False,)        Dalc\n",
              "(False,)        Walc\n",
              "(False,)      health"
            ],
            "text/html": [
              "\n",
              "  <div id=\"df-0748df3f-e2df-4400-a357-837f946beb31\">\n",
              "    <div class=\"colab-df-container\">\n",
              "      <div>\n",
              "<style scoped>\n",
              "    .dataframe tbody tr th:only-of-type {\n",
              "        vertical-align: middle;\n",
              "    }\n",
              "\n",
              "    .dataframe tbody tr th {\n",
              "        vertical-align: top;\n",
              "    }\n",
              "\n",
              "    .dataframe thead th {\n",
              "        text-align: right;\n",
              "    }\n",
              "</style>\n",
              "<table border=\"1\" class=\"dataframe\">\n",
              "  <thead>\n",
              "    <tr style=\"text-align: right;\">\n",
              "      <th></th>\n",
              "      <th>0</th>\n",
              "    </tr>\n",
              "  </thead>\n",
              "  <tbody>\n",
              "    <tr>\n",
              "      <th>(False,)</th>\n",
              "      <td>school</td>\n",
              "    </tr>\n",
              "    <tr>\n",
              "      <th>(False,)</th>\n",
              "      <td>traveltime</td>\n",
              "    </tr>\n",
              "    <tr>\n",
              "      <th>(False,)</th>\n",
              "      <td>studytime</td>\n",
              "    </tr>\n",
              "    <tr>\n",
              "      <th>(True,)</th>\n",
              "      <td>failures</td>\n",
              "    </tr>\n",
              "    <tr>\n",
              "      <th>(False,)</th>\n",
              "      <td>sex</td>\n",
              "    </tr>\n",
              "    <tr>\n",
              "      <th>(False,)</th>\n",
              "      <td>address</td>\n",
              "    </tr>\n",
              "    <tr>\n",
              "      <th>(False,)</th>\n",
              "      <td>famsize</td>\n",
              "    </tr>\n",
              "    <tr>\n",
              "      <th>(False,)</th>\n",
              "      <td>Pstatus</td>\n",
              "    </tr>\n",
              "    <tr>\n",
              "      <th>(False,)</th>\n",
              "      <td>Medu</td>\n",
              "    </tr>\n",
              "    <tr>\n",
              "      <th>(False,)</th>\n",
              "      <td>Fedu</td>\n",
              "    </tr>\n",
              "    <tr>\n",
              "      <th>(True,)</th>\n",
              "      <td>Mjob</td>\n",
              "    </tr>\n",
              "    <tr>\n",
              "      <th>(False,)</th>\n",
              "      <td>Fjob</td>\n",
              "    </tr>\n",
              "    <tr>\n",
              "      <th>(False,)</th>\n",
              "      <td>reason</td>\n",
              "    </tr>\n",
              "    <tr>\n",
              "      <th>(True,)</th>\n",
              "      <td>guardian</td>\n",
              "    </tr>\n",
              "    <tr>\n",
              "      <th>(True,)</th>\n",
              "      <td>schoolsup</td>\n",
              "    </tr>\n",
              "    <tr>\n",
              "      <th>(False,)</th>\n",
              "      <td>famsup</td>\n",
              "    </tr>\n",
              "    <tr>\n",
              "      <th>(True,)</th>\n",
              "      <td>paid</td>\n",
              "    </tr>\n",
              "    <tr>\n",
              "      <th>(False,)</th>\n",
              "      <td>activities</td>\n",
              "    </tr>\n",
              "    <tr>\n",
              "      <th>(False,)</th>\n",
              "      <td>nursery</td>\n",
              "    </tr>\n",
              "    <tr>\n",
              "      <th>(False,)</th>\n",
              "      <td>higher</td>\n",
              "    </tr>\n",
              "    <tr>\n",
              "      <th>(False,)</th>\n",
              "      <td>internet</td>\n",
              "    </tr>\n",
              "    <tr>\n",
              "      <th>(True,)</th>\n",
              "      <td>romantic</td>\n",
              "    </tr>\n",
              "    <tr>\n",
              "      <th>(False,)</th>\n",
              "      <td>famrel</td>\n",
              "    </tr>\n",
              "    <tr>\n",
              "      <th>(False,)</th>\n",
              "      <td>freetime</td>\n",
              "    </tr>\n",
              "    <tr>\n",
              "      <th>(False,)</th>\n",
              "      <td>goout</td>\n",
              "    </tr>\n",
              "    <tr>\n",
              "      <th>(False,)</th>\n",
              "      <td>Dalc</td>\n",
              "    </tr>\n",
              "    <tr>\n",
              "      <th>(False,)</th>\n",
              "      <td>Walc</td>\n",
              "    </tr>\n",
              "    <tr>\n",
              "      <th>(False,)</th>\n",
              "      <td>health</td>\n",
              "    </tr>\n",
              "  </tbody>\n",
              "</table>\n",
              "</div>\n",
              "      <button class=\"colab-df-convert\" onclick=\"convertToInteractive('df-0748df3f-e2df-4400-a357-837f946beb31')\"\n",
              "              title=\"Convert this dataframe to an interactive table.\"\n",
              "              style=\"display:none;\">\n",
              "        \n",
              "  <svg xmlns=\"http://www.w3.org/2000/svg\" height=\"24px\"viewBox=\"0 0 24 24\"\n",
              "       width=\"24px\">\n",
              "    <path d=\"M0 0h24v24H0V0z\" fill=\"none\"/>\n",
              "    <path d=\"M18.56 5.44l.94 2.06.94-2.06 2.06-.94-2.06-.94-.94-2.06-.94 2.06-2.06.94zm-11 1L8.5 8.5l.94-2.06 2.06-.94-2.06-.94L8.5 2.5l-.94 2.06-2.06.94zm10 10l.94 2.06.94-2.06 2.06-.94-2.06-.94-.94-2.06-.94 2.06-2.06.94z\"/><path d=\"M17.41 7.96l-1.37-1.37c-.4-.4-.92-.59-1.43-.59-.52 0-1.04.2-1.43.59L10.3 9.45l-7.72 7.72c-.78.78-.78 2.05 0 2.83L4 21.41c.39.39.9.59 1.41.59.51 0 1.02-.2 1.41-.59l7.78-7.78 2.81-2.81c.8-.78.8-2.07 0-2.86zM5.41 20L4 18.59l7.72-7.72 1.47 1.35L5.41 20z\"/>\n",
              "  </svg>\n",
              "      </button>\n",
              "      \n",
              "  <style>\n",
              "    .colab-df-container {\n",
              "      display:flex;\n",
              "      flex-wrap:wrap;\n",
              "      gap: 12px;\n",
              "    }\n",
              "\n",
              "    .colab-df-convert {\n",
              "      background-color: #E8F0FE;\n",
              "      border: none;\n",
              "      border-radius: 50%;\n",
              "      cursor: pointer;\n",
              "      display: none;\n",
              "      fill: #1967D2;\n",
              "      height: 32px;\n",
              "      padding: 0 0 0 0;\n",
              "      width: 32px;\n",
              "    }\n",
              "\n",
              "    .colab-df-convert:hover {\n",
              "      background-color: #E2EBFA;\n",
              "      box-shadow: 0px 1px 2px rgba(60, 64, 67, 0.3), 0px 1px 3px 1px rgba(60, 64, 67, 0.15);\n",
              "      fill: #174EA6;\n",
              "    }\n",
              "\n",
              "    [theme=dark] .colab-df-convert {\n",
              "      background-color: #3B4455;\n",
              "      fill: #D2E3FC;\n",
              "    }\n",
              "\n",
              "    [theme=dark] .colab-df-convert:hover {\n",
              "      background-color: #434B5C;\n",
              "      box-shadow: 0px 1px 3px 1px rgba(0, 0, 0, 0.15);\n",
              "      filter: drop-shadow(0px 1px 2px rgba(0, 0, 0, 0.3));\n",
              "      fill: #FFFFFF;\n",
              "    }\n",
              "  </style>\n",
              "\n",
              "      <script>\n",
              "        const buttonEl =\n",
              "          document.querySelector('#df-0748df3f-e2df-4400-a357-837f946beb31 button.colab-df-convert');\n",
              "        buttonEl.style.display =\n",
              "          google.colab.kernel.accessAllowed ? 'block' : 'none';\n",
              "\n",
              "        async function convertToInteractive(key) {\n",
              "          const element = document.querySelector('#df-0748df3f-e2df-4400-a357-837f946beb31');\n",
              "          const dataTable =\n",
              "            await google.colab.kernel.invokeFunction('convertToInteractive',\n",
              "                                                     [key], {});\n",
              "          if (!dataTable) return;\n",
              "\n",
              "          const docLinkHtml = 'Like what you see? Visit the ' +\n",
              "            '<a target=\"_blank\" href=https://colab.research.google.com/notebooks/data_table.ipynb>data table notebook</a>'\n",
              "            + ' to learn more about interactive tables.';\n",
              "          element.innerHTML = '';\n",
              "          dataTable['output_type'] = 'display_data';\n",
              "          await google.colab.output.renderOutput(dataTable, element);\n",
              "          const docLink = document.createElement('div');\n",
              "          docLink.innerHTML = docLinkHtml;\n",
              "          element.appendChild(docLink);\n",
              "        }\n",
              "      </script>\n",
              "    </div>\n",
              "  </div>\n",
              "  "
            ]
          },
          "metadata": {},
          "execution_count": 39
        }
      ]
    },
    {
      "cell_type": "markdown",
      "source": [
        "A un nivel de significancia del $5$%, para los contrastes realizados con las variables failures, Mjob,guardian,schoolsup,paid, romantic se rechazó la hipótesis nula, en favor de que estas variables tienen algún tipo de dependencia con la nota de matemáticas del tercer periodo."
      ],
      "metadata": {
        "id": "PjkyfRVc6xKG"
      }
    },
    {
      "cell_type": "markdown",
      "source": [
        "Dado el análisis exploratorio realizado, se considera que las variables relevantes para el modelo son las notas del periodo 1 y 2 en matemáticas, que dada la alta correlación que hay entre estas dos variables, se trabajara el promedio para resumir la información de ambas fuentes. Otras variables relevantes resultaron ser el número de fallas, el trabajo de la madre, el tutor del estudiante, si el estudiante tiene apoyo educativo adicional, si paga clases extra de matemáticas y si está en una relación. Únicamente para la estimación del modelo se descartaron la variable 'failures' y 'romantic'."
      ],
      "metadata": {
        "id": "PuIOiaNt7tDT"
      }
    },
    {
      "cell_type": "markdown",
      "source": [
        "# Punto 3\n",
        " \n",
        "Se utilizará el algoritmo de regresión con Ridge, dado que, como previamente se examinaron las variables que se utilizaran como explicativas, todas están se consideran importantes en el modelo, por ende, no se van a seleccionar variables sino únicamente a penalizar los coeficientes de estas. Los parámetros que se van a variar, con la finalidad de obtener el mínimo valor en el $MAE$ y el $RMSE$ son:\n",
        " \n",
        "- Alpha: Controlador de la fuerza de regularización\n",
        "- Tol: precisión de la solución"
      ],
      "metadata": {
        "id": "m051syQd9oqX"
      }
    },
    {
      "cell_type": "code",
      "source": [
        "Base = Matematicas[['Promedio', 'Mjob', 'guardian', 'schoolsup', 'paid', 'romantic']]"
      ],
      "metadata": {
        "id": "gwvehqF49rCh"
      },
      "execution_count": 40,
      "outputs": []
    },
    {
      "cell_type": "code",
      "source": [
        "Base['guardian'][Base['guardian'] == 'Mother'] = 'mother'"
      ],
      "metadata": {
        "id": "6ZQpJVO-B9fA"
      },
      "execution_count": null,
      "outputs": []
    },
    {
      "cell_type": "code",
      "source": [
        "Mjob_dummy = pd.get_dummies(Base['Mjob'])\n",
        "guardian_dummy = pd.get_dummies(Base['guardian'])\n",
        "schoolsup_dummy = pd.get_dummies(Base['schoolsup'])\n",
        "paid_dummy = pd.get_dummies(Base['paid'])"
      ],
      "metadata": {
        "id": "69xWxw7H-JJr"
      },
      "execution_count": 42,
      "outputs": []
    },
    {
      "cell_type": "code",
      "source": [
        "Mjob_dummy = Mjob_dummy.loc[:,['at_home', 'health',\t'services',\t'teacher']] # other\n",
        "guardian_dummy = guardian_dummy.loc[:,['father',\t'mother']] # other\n",
        "schoolsup_dummy = schoolsup_dummy.loc[:,['yes']] # no\n",
        "paid_dummy = paid_dummy.loc[:,['yes']] # no"
      ],
      "metadata": {
        "id": "0UE5oRyWBDT5"
      },
      "execution_count": 43,
      "outputs": []
    },
    {
      "cell_type": "code",
      "source": [
        "promedio_mean, promedio_std = Base['Promedio'].mean(), Base['Promedio'].std()\n",
        "promedio = (Base['Promedio'] - promedio_mean) / promedio_std"
      ],
      "metadata": {
        "id": "6YRV33_y_juN"
      },
      "execution_count": 44,
      "outputs": []
    },
    {
      "cell_type": "code",
      "source": [
        "y = Matematicas['G3']"
      ],
      "metadata": {
        "id": "cIkNayjb_9cM"
      },
      "execution_count": 45,
      "outputs": []
    },
    {
      "cell_type": "code",
      "source": [
        "X = np.c_[promedio, Mjob_dummy, guardian_dummy, schoolsup_dummy, paid_dummy]"
      ],
      "metadata": {
        "id": "7bKLBXjUA1t7"
      },
      "execution_count": 46,
      "outputs": []
    },
    {
      "cell_type": "markdown",
      "source": [
        "*Ridge con toda la muestra*"
      ],
      "metadata": {
        "id": "AxamIN3-F0Pn"
      }
    },
    {
      "cell_type": "code",
      "source": [
        "from sklearn.linear_model import Ridge"
      ],
      "metadata": {
        "id": "9pSJID3EHh9P"
      },
      "execution_count": 73,
      "outputs": []
    },
    {
      "cell_type": "code",
      "source": [
        "tol = [0.002, 0.5, 0.9]\n",
        "alpha = [0.1, 10 , 100] \n",
        "H_parametros = pd.DataFrame()\n",
        "H_parametros['tol'] = tol\n",
        "H_parametros['alpha'] = alpha"
      ],
      "metadata": {
        "id": "7sjlWMlOIHi4"
      },
      "execution_count": 74,
      "outputs": []
    },
    {
      "cell_type": "code",
      "source": [
        "H_parametros"
      ],
      "metadata": {
        "colab": {
          "base_uri": "https://localhost:8080/",
          "height": 143
        },
        "id": "q9h3KyunIhz2",
        "outputId": "2996a2ed-aa0e-405d-b0de-8ed8de25744e"
      },
      "execution_count": 75,
      "outputs": [
        {
          "output_type": "execute_result",
          "data": {
            "text/plain": [
              "     tol  alpha\n",
              "0  0.002    0.1\n",
              "1  0.500   10.0\n",
              "2  0.900  100.0"
            ],
            "text/html": [
              "\n",
              "  <div id=\"df-be7f1f82-7c39-4311-9f44-f24b1e9b13c7\">\n",
              "    <div class=\"colab-df-container\">\n",
              "      <div>\n",
              "<style scoped>\n",
              "    .dataframe tbody tr th:only-of-type {\n",
              "        vertical-align: middle;\n",
              "    }\n",
              "\n",
              "    .dataframe tbody tr th {\n",
              "        vertical-align: top;\n",
              "    }\n",
              "\n",
              "    .dataframe thead th {\n",
              "        text-align: right;\n",
              "    }\n",
              "</style>\n",
              "<table border=\"1\" class=\"dataframe\">\n",
              "  <thead>\n",
              "    <tr style=\"text-align: right;\">\n",
              "      <th></th>\n",
              "      <th>tol</th>\n",
              "      <th>alpha</th>\n",
              "    </tr>\n",
              "  </thead>\n",
              "  <tbody>\n",
              "    <tr>\n",
              "      <th>0</th>\n",
              "      <td>0.002</td>\n",
              "      <td>0.1</td>\n",
              "    </tr>\n",
              "    <tr>\n",
              "      <th>1</th>\n",
              "      <td>0.500</td>\n",
              "      <td>10.0</td>\n",
              "    </tr>\n",
              "    <tr>\n",
              "      <th>2</th>\n",
              "      <td>0.900</td>\n",
              "      <td>100.0</td>\n",
              "    </tr>\n",
              "  </tbody>\n",
              "</table>\n",
              "</div>\n",
              "      <button class=\"colab-df-convert\" onclick=\"convertToInteractive('df-be7f1f82-7c39-4311-9f44-f24b1e9b13c7')\"\n",
              "              title=\"Convert this dataframe to an interactive table.\"\n",
              "              style=\"display:none;\">\n",
              "        \n",
              "  <svg xmlns=\"http://www.w3.org/2000/svg\" height=\"24px\"viewBox=\"0 0 24 24\"\n",
              "       width=\"24px\">\n",
              "    <path d=\"M0 0h24v24H0V0z\" fill=\"none\"/>\n",
              "    <path d=\"M18.56 5.44l.94 2.06.94-2.06 2.06-.94-2.06-.94-.94-2.06-.94 2.06-2.06.94zm-11 1L8.5 8.5l.94-2.06 2.06-.94-2.06-.94L8.5 2.5l-.94 2.06-2.06.94zm10 10l.94 2.06.94-2.06 2.06-.94-2.06-.94-.94-2.06-.94 2.06-2.06.94z\"/><path d=\"M17.41 7.96l-1.37-1.37c-.4-.4-.92-.59-1.43-.59-.52 0-1.04.2-1.43.59L10.3 9.45l-7.72 7.72c-.78.78-.78 2.05 0 2.83L4 21.41c.39.39.9.59 1.41.59.51 0 1.02-.2 1.41-.59l7.78-7.78 2.81-2.81c.8-.78.8-2.07 0-2.86zM5.41 20L4 18.59l7.72-7.72 1.47 1.35L5.41 20z\"/>\n",
              "  </svg>\n",
              "      </button>\n",
              "      \n",
              "  <style>\n",
              "    .colab-df-container {\n",
              "      display:flex;\n",
              "      flex-wrap:wrap;\n",
              "      gap: 12px;\n",
              "    }\n",
              "\n",
              "    .colab-df-convert {\n",
              "      background-color: #E8F0FE;\n",
              "      border: none;\n",
              "      border-radius: 50%;\n",
              "      cursor: pointer;\n",
              "      display: none;\n",
              "      fill: #1967D2;\n",
              "      height: 32px;\n",
              "      padding: 0 0 0 0;\n",
              "      width: 32px;\n",
              "    }\n",
              "\n",
              "    .colab-df-convert:hover {\n",
              "      background-color: #E2EBFA;\n",
              "      box-shadow: 0px 1px 2px rgba(60, 64, 67, 0.3), 0px 1px 3px 1px rgba(60, 64, 67, 0.15);\n",
              "      fill: #174EA6;\n",
              "    }\n",
              "\n",
              "    [theme=dark] .colab-df-convert {\n",
              "      background-color: #3B4455;\n",
              "      fill: #D2E3FC;\n",
              "    }\n",
              "\n",
              "    [theme=dark] .colab-df-convert:hover {\n",
              "      background-color: #434B5C;\n",
              "      box-shadow: 0px 1px 3px 1px rgba(0, 0, 0, 0.15);\n",
              "      filter: drop-shadow(0px 1px 2px rgba(0, 0, 0, 0.3));\n",
              "      fill: #FFFFFF;\n",
              "    }\n",
              "  </style>\n",
              "\n",
              "      <script>\n",
              "        const buttonEl =\n",
              "          document.querySelector('#df-be7f1f82-7c39-4311-9f44-f24b1e9b13c7 button.colab-df-convert');\n",
              "        buttonEl.style.display =\n",
              "          google.colab.kernel.accessAllowed ? 'block' : 'none';\n",
              "\n",
              "        async function convertToInteractive(key) {\n",
              "          const element = document.querySelector('#df-be7f1f82-7c39-4311-9f44-f24b1e9b13c7');\n",
              "          const dataTable =\n",
              "            await google.colab.kernel.invokeFunction('convertToInteractive',\n",
              "                                                     [key], {});\n",
              "          if (!dataTable) return;\n",
              "\n",
              "          const docLinkHtml = 'Like what you see? Visit the ' +\n",
              "            '<a target=\"_blank\" href=https://colab.research.google.com/notebooks/data_table.ipynb>data table notebook</a>'\n",
              "            + ' to learn more about interactive tables.';\n",
              "          element.innerHTML = '';\n",
              "          dataTable['output_type'] = 'display_data';\n",
              "          await google.colab.output.renderOutput(dataTable, element);\n",
              "          const docLink = document.createElement('div');\n",
              "          docLink.innerHTML = docLinkHtml;\n",
              "          element.appendChild(docLink);\n",
              "        }\n",
              "      </script>\n",
              "    </div>\n",
              "  </div>\n",
              "  "
            ]
          },
          "metadata": {},
          "execution_count": 75
        }
      ]
    },
    {
      "cell_type": "code",
      "source": [
        "grid = pd.DataFrame()\n",
        "tol = []\n",
        "alpha = []"
      ],
      "metadata": {
        "id": "nGGZzv2zI8HT"
      },
      "execution_count": 76,
      "outputs": []
    },
    {
      "cell_type": "code",
      "source": [
        "for i in range(3):\n",
        "  for j in range(3):\n",
        "    tol.append(H_parametros['tol'][i])\n",
        "    alpha.append(H_parametros['alpha'][j])"
      ],
      "metadata": {
        "id": "CJDiyybrIrpw"
      },
      "execution_count": 77,
      "outputs": []
    },
    {
      "cell_type": "code",
      "source": [
        "grid['tol'] = tol ; grid['alpha'] = alpha"
      ],
      "metadata": {
        "id": "73WGJFYlJjHt"
      },
      "execution_count": 78,
      "outputs": []
    },
    {
      "cell_type": "code",
      "source": [
        "MAE = [] ; RMSE = []"
      ],
      "metadata": {
        "id": "SnB1XpJCKLPY"
      },
      "execution_count": 79,
      "outputs": []
    },
    {
      "cell_type": "code",
      "source": [
        "for i in range(9):\n",
        "  ridgereg = Ridge(alpha = grid['alpha'][i], tol = grid['tol'][i])\n",
        "  ridgereg.fit(X,y)\n",
        "  y_pred = ridgereg.predict(X)\n",
        "  MAE.append(metrics.mean_absolute_error(y, y_pred))\n",
        "  RMSE.append(np.sqrt(metrics.mean_squared_error(y, y_pred)))"
      ],
      "metadata": {
        "id": "PfM4S7Y0KPoD"
      },
      "execution_count": 80,
      "outputs": []
    },
    {
      "cell_type": "code",
      "source": [
        "Ridge_1 = pd.DataFrame(grid)\n",
        "Ridge_1['MAE'] = MAE\n",
        "Ridge_1['RMSE'] = RMSE"
      ],
      "metadata": {
        "id": "3bGfb1lSW_x7"
      },
      "execution_count": 81,
      "outputs": []
    },
    {
      "cell_type": "code",
      "source": [
        "Ridge_1"
      ],
      "metadata": {
        "colab": {
          "base_uri": "https://localhost:8080/",
          "height": 331
        },
        "id": "-asdQOIRXKOE",
        "outputId": "afd3e422-f822-4544-c0da-99d935b18f16"
      },
      "execution_count": 82,
      "outputs": [
        {
          "output_type": "execute_result",
          "data": {
            "text/plain": [
              "     tol  alpha       MAE      RMSE\n",
              "0  0.002    0.1  1.386669  2.047068\n",
              "1  0.002   10.0  1.363209  2.052166\n",
              "2  0.002  100.0  1.409143  2.229313\n",
              "3  0.500    0.1  1.386669  2.047068\n",
              "4  0.500   10.0  1.363209  2.052166\n",
              "5  0.500  100.0  1.409143  2.229313\n",
              "6  0.900    0.1  1.386669  2.047068\n",
              "7  0.900   10.0  1.363209  2.052166\n",
              "8  0.900  100.0  1.409143  2.229313"
            ],
            "text/html": [
              "\n",
              "  <div id=\"df-2d82bb27-a22a-4f0c-bfd7-3604c2a669af\">\n",
              "    <div class=\"colab-df-container\">\n",
              "      <div>\n",
              "<style scoped>\n",
              "    .dataframe tbody tr th:only-of-type {\n",
              "        vertical-align: middle;\n",
              "    }\n",
              "\n",
              "    .dataframe tbody tr th {\n",
              "        vertical-align: top;\n",
              "    }\n",
              "\n",
              "    .dataframe thead th {\n",
              "        text-align: right;\n",
              "    }\n",
              "</style>\n",
              "<table border=\"1\" class=\"dataframe\">\n",
              "  <thead>\n",
              "    <tr style=\"text-align: right;\">\n",
              "      <th></th>\n",
              "      <th>tol</th>\n",
              "      <th>alpha</th>\n",
              "      <th>MAE</th>\n",
              "      <th>RMSE</th>\n",
              "    </tr>\n",
              "  </thead>\n",
              "  <tbody>\n",
              "    <tr>\n",
              "      <th>0</th>\n",
              "      <td>0.002</td>\n",
              "      <td>0.1</td>\n",
              "      <td>1.386669</td>\n",
              "      <td>2.047068</td>\n",
              "    </tr>\n",
              "    <tr>\n",
              "      <th>1</th>\n",
              "      <td>0.002</td>\n",
              "      <td>10.0</td>\n",
              "      <td>1.363209</td>\n",
              "      <td>2.052166</td>\n",
              "    </tr>\n",
              "    <tr>\n",
              "      <th>2</th>\n",
              "      <td>0.002</td>\n",
              "      <td>100.0</td>\n",
              "      <td>1.409143</td>\n",
              "      <td>2.229313</td>\n",
              "    </tr>\n",
              "    <tr>\n",
              "      <th>3</th>\n",
              "      <td>0.500</td>\n",
              "      <td>0.1</td>\n",
              "      <td>1.386669</td>\n",
              "      <td>2.047068</td>\n",
              "    </tr>\n",
              "    <tr>\n",
              "      <th>4</th>\n",
              "      <td>0.500</td>\n",
              "      <td>10.0</td>\n",
              "      <td>1.363209</td>\n",
              "      <td>2.052166</td>\n",
              "    </tr>\n",
              "    <tr>\n",
              "      <th>5</th>\n",
              "      <td>0.500</td>\n",
              "      <td>100.0</td>\n",
              "      <td>1.409143</td>\n",
              "      <td>2.229313</td>\n",
              "    </tr>\n",
              "    <tr>\n",
              "      <th>6</th>\n",
              "      <td>0.900</td>\n",
              "      <td>0.1</td>\n",
              "      <td>1.386669</td>\n",
              "      <td>2.047068</td>\n",
              "    </tr>\n",
              "    <tr>\n",
              "      <th>7</th>\n",
              "      <td>0.900</td>\n",
              "      <td>10.0</td>\n",
              "      <td>1.363209</td>\n",
              "      <td>2.052166</td>\n",
              "    </tr>\n",
              "    <tr>\n",
              "      <th>8</th>\n",
              "      <td>0.900</td>\n",
              "      <td>100.0</td>\n",
              "      <td>1.409143</td>\n",
              "      <td>2.229313</td>\n",
              "    </tr>\n",
              "  </tbody>\n",
              "</table>\n",
              "</div>\n",
              "      <button class=\"colab-df-convert\" onclick=\"convertToInteractive('df-2d82bb27-a22a-4f0c-bfd7-3604c2a669af')\"\n",
              "              title=\"Convert this dataframe to an interactive table.\"\n",
              "              style=\"display:none;\">\n",
              "        \n",
              "  <svg xmlns=\"http://www.w3.org/2000/svg\" height=\"24px\"viewBox=\"0 0 24 24\"\n",
              "       width=\"24px\">\n",
              "    <path d=\"M0 0h24v24H0V0z\" fill=\"none\"/>\n",
              "    <path d=\"M18.56 5.44l.94 2.06.94-2.06 2.06-.94-2.06-.94-.94-2.06-.94 2.06-2.06.94zm-11 1L8.5 8.5l.94-2.06 2.06-.94-2.06-.94L8.5 2.5l-.94 2.06-2.06.94zm10 10l.94 2.06.94-2.06 2.06-.94-2.06-.94-.94-2.06-.94 2.06-2.06.94z\"/><path d=\"M17.41 7.96l-1.37-1.37c-.4-.4-.92-.59-1.43-.59-.52 0-1.04.2-1.43.59L10.3 9.45l-7.72 7.72c-.78.78-.78 2.05 0 2.83L4 21.41c.39.39.9.59 1.41.59.51 0 1.02-.2 1.41-.59l7.78-7.78 2.81-2.81c.8-.78.8-2.07 0-2.86zM5.41 20L4 18.59l7.72-7.72 1.47 1.35L5.41 20z\"/>\n",
              "  </svg>\n",
              "      </button>\n",
              "      \n",
              "  <style>\n",
              "    .colab-df-container {\n",
              "      display:flex;\n",
              "      flex-wrap:wrap;\n",
              "      gap: 12px;\n",
              "    }\n",
              "\n",
              "    .colab-df-convert {\n",
              "      background-color: #E8F0FE;\n",
              "      border: none;\n",
              "      border-radius: 50%;\n",
              "      cursor: pointer;\n",
              "      display: none;\n",
              "      fill: #1967D2;\n",
              "      height: 32px;\n",
              "      padding: 0 0 0 0;\n",
              "      width: 32px;\n",
              "    }\n",
              "\n",
              "    .colab-df-convert:hover {\n",
              "      background-color: #E2EBFA;\n",
              "      box-shadow: 0px 1px 2px rgba(60, 64, 67, 0.3), 0px 1px 3px 1px rgba(60, 64, 67, 0.15);\n",
              "      fill: #174EA6;\n",
              "    }\n",
              "\n",
              "    [theme=dark] .colab-df-convert {\n",
              "      background-color: #3B4455;\n",
              "      fill: #D2E3FC;\n",
              "    }\n",
              "\n",
              "    [theme=dark] .colab-df-convert:hover {\n",
              "      background-color: #434B5C;\n",
              "      box-shadow: 0px 1px 3px 1px rgba(0, 0, 0, 0.15);\n",
              "      filter: drop-shadow(0px 1px 2px rgba(0, 0, 0, 0.3));\n",
              "      fill: #FFFFFF;\n",
              "    }\n",
              "  </style>\n",
              "\n",
              "      <script>\n",
              "        const buttonEl =\n",
              "          document.querySelector('#df-2d82bb27-a22a-4f0c-bfd7-3604c2a669af button.colab-df-convert');\n",
              "        buttonEl.style.display =\n",
              "          google.colab.kernel.accessAllowed ? 'block' : 'none';\n",
              "\n",
              "        async function convertToInteractive(key) {\n",
              "          const element = document.querySelector('#df-2d82bb27-a22a-4f0c-bfd7-3604c2a669af');\n",
              "          const dataTable =\n",
              "            await google.colab.kernel.invokeFunction('convertToInteractive',\n",
              "                                                     [key], {});\n",
              "          if (!dataTable) return;\n",
              "\n",
              "          const docLinkHtml = 'Like what you see? Visit the ' +\n",
              "            '<a target=\"_blank\" href=https://colab.research.google.com/notebooks/data_table.ipynb>data table notebook</a>'\n",
              "            + ' to learn more about interactive tables.';\n",
              "          element.innerHTML = '';\n",
              "          dataTable['output_type'] = 'display_data';\n",
              "          await google.colab.output.renderOutput(dataTable, element);\n",
              "          const docLink = document.createElement('div');\n",
              "          docLink.innerHTML = docLinkHtml;\n",
              "          element.appendChild(docLink);\n",
              "        }\n",
              "      </script>\n",
              "    </div>\n",
              "  </div>\n",
              "  "
            ]
          },
          "metadata": {},
          "execution_count": 82
        }
      ]
    },
    {
      "cell_type": "markdown",
      "source": [
        "Cuando se estima el modelo con toda la muestra, la configuración con la cual se obtienen el menor $MAE$ y un $RMSE$ aceptable es donde se utiliza tol = 0.002 y alpha = 10."
      ],
      "metadata": {
        "id": "d4X80Rf4ZDCx"
      }
    },
    {
      "cell_type": "markdown",
      "source": [
        "*Ridge con datos de entrenamiento*"
      ],
      "metadata": {
        "id": "wm5tYL-wRiZB"
      }
    },
    {
      "cell_type": "code",
      "source": [
        "MAE_train = [] ; RMSE_train = []"
      ],
      "metadata": {
        "id": "albOVnJQR4Yv"
      },
      "execution_count": 83,
      "outputs": []
    },
    {
      "cell_type": "code",
      "source": [
        "X_train, X_test, y_train, y_test = train_test_split(X, y, test_size=0.2, random_state=69)"
      ],
      "metadata": {
        "id": "ZUTac6oaRZoO"
      },
      "execution_count": 84,
      "outputs": []
    },
    {
      "cell_type": "code",
      "source": [
        "for i in range(9):\n",
        "  ridgereg = Ridge(alpha = grid['alpha'][i], tol = grid['tol'][i])\n",
        "  ridgereg.fit(X_train,y_train)\n",
        "  y_pred = ridgereg.predict(X_train)\n",
        "  MAE_train.append(metrics.mean_absolute_error(y_train, y_pred))\n",
        "  RMSE_train.append(np.sqrt(metrics.mean_squared_error(y_train, y_pred)))"
      ],
      "metadata": {
        "id": "oSJ44iCSK4Dp"
      },
      "execution_count": 85,
      "outputs": []
    },
    {
      "cell_type": "code",
      "source": [
        "Ridge_2 = pd.DataFrame(grid)\n",
        "Ridge_2['MAE'] = MAE_train \n",
        "Ridge_2['RMSE'] = RMSE_train\n",
        "Ridge_2"
      ],
      "metadata": {
        "colab": {
          "base_uri": "https://localhost:8080/",
          "height": 331
        },
        "id": "MQFuGA4rK2eG",
        "outputId": "6d9d3497-03ad-4b02-9635-8a728597c48e"
      },
      "execution_count": 86,
      "outputs": [
        {
          "output_type": "execute_result",
          "data": {
            "text/plain": [
              "     tol  alpha       MAE      RMSE\n",
              "0  0.002    0.1  1.330150  1.998611\n",
              "1  0.002   10.0  1.298832  2.005929\n",
              "2  0.002  100.0  1.382668  2.235187\n",
              "3  0.500    0.1  1.330150  1.998611\n",
              "4  0.500   10.0  1.298832  2.005929\n",
              "5  0.500  100.0  1.382668  2.235187\n",
              "6  0.900    0.1  1.330150  1.998611\n",
              "7  0.900   10.0  1.298832  2.005929\n",
              "8  0.900  100.0  1.382668  2.235187"
            ],
            "text/html": [
              "\n",
              "  <div id=\"df-529fcbad-f6a2-401f-8f02-dd9b137d7e10\">\n",
              "    <div class=\"colab-df-container\">\n",
              "      <div>\n",
              "<style scoped>\n",
              "    .dataframe tbody tr th:only-of-type {\n",
              "        vertical-align: middle;\n",
              "    }\n",
              "\n",
              "    .dataframe tbody tr th {\n",
              "        vertical-align: top;\n",
              "    }\n",
              "\n",
              "    .dataframe thead th {\n",
              "        text-align: right;\n",
              "    }\n",
              "</style>\n",
              "<table border=\"1\" class=\"dataframe\">\n",
              "  <thead>\n",
              "    <tr style=\"text-align: right;\">\n",
              "      <th></th>\n",
              "      <th>tol</th>\n",
              "      <th>alpha</th>\n",
              "      <th>MAE</th>\n",
              "      <th>RMSE</th>\n",
              "    </tr>\n",
              "  </thead>\n",
              "  <tbody>\n",
              "    <tr>\n",
              "      <th>0</th>\n",
              "      <td>0.002</td>\n",
              "      <td>0.1</td>\n",
              "      <td>1.330150</td>\n",
              "      <td>1.998611</td>\n",
              "    </tr>\n",
              "    <tr>\n",
              "      <th>1</th>\n",
              "      <td>0.002</td>\n",
              "      <td>10.0</td>\n",
              "      <td>1.298832</td>\n",
              "      <td>2.005929</td>\n",
              "    </tr>\n",
              "    <tr>\n",
              "      <th>2</th>\n",
              "      <td>0.002</td>\n",
              "      <td>100.0</td>\n",
              "      <td>1.382668</td>\n",
              "      <td>2.235187</td>\n",
              "    </tr>\n",
              "    <tr>\n",
              "      <th>3</th>\n",
              "      <td>0.500</td>\n",
              "      <td>0.1</td>\n",
              "      <td>1.330150</td>\n",
              "      <td>1.998611</td>\n",
              "    </tr>\n",
              "    <tr>\n",
              "      <th>4</th>\n",
              "      <td>0.500</td>\n",
              "      <td>10.0</td>\n",
              "      <td>1.298832</td>\n",
              "      <td>2.005929</td>\n",
              "    </tr>\n",
              "    <tr>\n",
              "      <th>5</th>\n",
              "      <td>0.500</td>\n",
              "      <td>100.0</td>\n",
              "      <td>1.382668</td>\n",
              "      <td>2.235187</td>\n",
              "    </tr>\n",
              "    <tr>\n",
              "      <th>6</th>\n",
              "      <td>0.900</td>\n",
              "      <td>0.1</td>\n",
              "      <td>1.330150</td>\n",
              "      <td>1.998611</td>\n",
              "    </tr>\n",
              "    <tr>\n",
              "      <th>7</th>\n",
              "      <td>0.900</td>\n",
              "      <td>10.0</td>\n",
              "      <td>1.298832</td>\n",
              "      <td>2.005929</td>\n",
              "    </tr>\n",
              "    <tr>\n",
              "      <th>8</th>\n",
              "      <td>0.900</td>\n",
              "      <td>100.0</td>\n",
              "      <td>1.382668</td>\n",
              "      <td>2.235187</td>\n",
              "    </tr>\n",
              "  </tbody>\n",
              "</table>\n",
              "</div>\n",
              "      <button class=\"colab-df-convert\" onclick=\"convertToInteractive('df-529fcbad-f6a2-401f-8f02-dd9b137d7e10')\"\n",
              "              title=\"Convert this dataframe to an interactive table.\"\n",
              "              style=\"display:none;\">\n",
              "        \n",
              "  <svg xmlns=\"http://www.w3.org/2000/svg\" height=\"24px\"viewBox=\"0 0 24 24\"\n",
              "       width=\"24px\">\n",
              "    <path d=\"M0 0h24v24H0V0z\" fill=\"none\"/>\n",
              "    <path d=\"M18.56 5.44l.94 2.06.94-2.06 2.06-.94-2.06-.94-.94-2.06-.94 2.06-2.06.94zm-11 1L8.5 8.5l.94-2.06 2.06-.94-2.06-.94L8.5 2.5l-.94 2.06-2.06.94zm10 10l.94 2.06.94-2.06 2.06-.94-2.06-.94-.94-2.06-.94 2.06-2.06.94z\"/><path d=\"M17.41 7.96l-1.37-1.37c-.4-.4-.92-.59-1.43-.59-.52 0-1.04.2-1.43.59L10.3 9.45l-7.72 7.72c-.78.78-.78 2.05 0 2.83L4 21.41c.39.39.9.59 1.41.59.51 0 1.02-.2 1.41-.59l7.78-7.78 2.81-2.81c.8-.78.8-2.07 0-2.86zM5.41 20L4 18.59l7.72-7.72 1.47 1.35L5.41 20z\"/>\n",
              "  </svg>\n",
              "      </button>\n",
              "      \n",
              "  <style>\n",
              "    .colab-df-container {\n",
              "      display:flex;\n",
              "      flex-wrap:wrap;\n",
              "      gap: 12px;\n",
              "    }\n",
              "\n",
              "    .colab-df-convert {\n",
              "      background-color: #E8F0FE;\n",
              "      border: none;\n",
              "      border-radius: 50%;\n",
              "      cursor: pointer;\n",
              "      display: none;\n",
              "      fill: #1967D2;\n",
              "      height: 32px;\n",
              "      padding: 0 0 0 0;\n",
              "      width: 32px;\n",
              "    }\n",
              "\n",
              "    .colab-df-convert:hover {\n",
              "      background-color: #E2EBFA;\n",
              "      box-shadow: 0px 1px 2px rgba(60, 64, 67, 0.3), 0px 1px 3px 1px rgba(60, 64, 67, 0.15);\n",
              "      fill: #174EA6;\n",
              "    }\n",
              "\n",
              "    [theme=dark] .colab-df-convert {\n",
              "      background-color: #3B4455;\n",
              "      fill: #D2E3FC;\n",
              "    }\n",
              "\n",
              "    [theme=dark] .colab-df-convert:hover {\n",
              "      background-color: #434B5C;\n",
              "      box-shadow: 0px 1px 3px 1px rgba(0, 0, 0, 0.15);\n",
              "      filter: drop-shadow(0px 1px 2px rgba(0, 0, 0, 0.3));\n",
              "      fill: #FFFFFF;\n",
              "    }\n",
              "  </style>\n",
              "\n",
              "      <script>\n",
              "        const buttonEl =\n",
              "          document.querySelector('#df-529fcbad-f6a2-401f-8f02-dd9b137d7e10 button.colab-df-convert');\n",
              "        buttonEl.style.display =\n",
              "          google.colab.kernel.accessAllowed ? 'block' : 'none';\n",
              "\n",
              "        async function convertToInteractive(key) {\n",
              "          const element = document.querySelector('#df-529fcbad-f6a2-401f-8f02-dd9b137d7e10');\n",
              "          const dataTable =\n",
              "            await google.colab.kernel.invokeFunction('convertToInteractive',\n",
              "                                                     [key], {});\n",
              "          if (!dataTable) return;\n",
              "\n",
              "          const docLinkHtml = 'Like what you see? Visit the ' +\n",
              "            '<a target=\"_blank\" href=https://colab.research.google.com/notebooks/data_table.ipynb>data table notebook</a>'\n",
              "            + ' to learn more about interactive tables.';\n",
              "          element.innerHTML = '';\n",
              "          dataTable['output_type'] = 'display_data';\n",
              "          await google.colab.output.renderOutput(dataTable, element);\n",
              "          const docLink = document.createElement('div');\n",
              "          docLink.innerHTML = docLinkHtml;\n",
              "          element.appendChild(docLink);\n",
              "        }\n",
              "      </script>\n",
              "    </div>\n",
              "  </div>\n",
              "  "
            ]
          },
          "metadata": {},
          "execution_count": 86
        }
      ]
    },
    {
      "cell_type": "markdown",
      "source": [
        "Cuando se estima el modelo con toda unicamente los datos de entrenamiento, la configuración con la cual se obtienen el menor $MAE$ y un $RMSE$ aceptable es donde se utiliza tol = 0.002 y alpha = 10."
      ],
      "metadata": {
        "id": "N5kkc3GfZdnJ"
      }
    },
    {
      "cell_type": "markdown",
      "source": [
        "*Ridge con K fold Cross Validation*"
      ],
      "metadata": {
        "id": "DeKKtMi3Sl3h"
      }
    },
    {
      "cell_type": "code",
      "source": [
        "MAE_k_5 = [] ; RMSE_k_5  = [] ; MAE_k_10 = [] ; RMSE_k_10 = []"
      ],
      "metadata": {
        "id": "BM8QLKdZSSIL"
      },
      "execution_count": 87,
      "outputs": []
    },
    {
      "cell_type": "code",
      "source": [
        "for i in range(9):\n",
        "\n",
        "  ridgereg = Ridge(alpha = grid['alpha'][i], tol = grid['tol'][i])\n",
        "  ridgereg.fit(X_train,y_train)\n",
        "  cv = KFold(n_splits = 5, random_state=79, shuffle=True)\n",
        "  scores = cross_val_score(ridgereg, X_train, y_train, scoring='neg_mean_absolute_error', cv=cv, n_jobs=-1)\n",
        "  y_pred = ridgereg.predict(X_test)\n",
        "  MAE_k_5.append(metrics.mean_absolute_error(y_test, y_pred))\n",
        "  scores = cross_val_score(ridgereg, X_train, y_train, scoring='neg_mean_squared_error', cv=cv, n_jobs=-1)\n",
        "  y_pred = ridgereg.predict(X_test)\n",
        "  RMSE_k_5.append(np.sqrt(metrics.mean_squared_error(y_test, y_pred)))\n",
        "  \n",
        "  \n",
        "  cv = KFold(n_splits = 10, random_state=79, shuffle=True)\n",
        "  scores = cross_val_score(ridgereg, X_train, X_train, scoring='neg_mean_absolute_error', cv=cv, n_jobs=-1)\n",
        "  y_pred = ridgereg.predict(X_test)\n",
        "  MAE_k_10.append(metrics.mean_absolute_error(y_test, y_pred))\n",
        "  scores = cross_val_score(ridgereg, X_train, y_train, scoring='neg_mean_squared_error', cv=cv, n_jobs=-1)\n",
        "  y_pred = ridgereg.predict(X_test)\n",
        "  RMSE_k_10.append(np.sqrt(metrics.mean_squared_error(y_test, y_pred)))"
      ],
      "metadata": {
        "id": "baT5dFctSy9R"
      },
      "execution_count": 88,
      "outputs": []
    },
    {
      "cell_type": "code",
      "source": [
        "Ridge_3 = pd.DataFrame(grid)\n",
        "Ridge_3['MAE'] = MAE_k_5 \n",
        "Ridge_3['RMSE'] = RMSE_k_5\n",
        "Ridge_3"
      ],
      "metadata": {
        "colab": {
          "base_uri": "https://localhost:8080/",
          "height": 331
        },
        "id": "X_gK_qxBUUfB",
        "outputId": "34257ffa-85c9-4b26-ad0a-04369e3f7e72"
      },
      "execution_count": 89,
      "outputs": [
        {
          "output_type": "execute_result",
          "data": {
            "text/plain": [
              "     tol  alpha       MAE      RMSE\n",
              "0  0.002    0.1  1.468676  2.304804\n",
              "1  0.002   10.0  1.464730  2.340853\n",
              "2  0.002  100.0  1.724902  2.734544\n",
              "3  0.500    0.1  1.468676  2.304804\n",
              "4  0.500   10.0  1.464730  2.340853\n",
              "5  0.500  100.0  1.724902  2.734544\n",
              "6  0.900    0.1  1.468676  2.304804\n",
              "7  0.900   10.0  1.464730  2.340853\n",
              "8  0.900  100.0  1.724902  2.734544"
            ],
            "text/html": [
              "\n",
              "  <div id=\"df-00472556-22b1-4419-84b0-a130b9d847b3\">\n",
              "    <div class=\"colab-df-container\">\n",
              "      <div>\n",
              "<style scoped>\n",
              "    .dataframe tbody tr th:only-of-type {\n",
              "        vertical-align: middle;\n",
              "    }\n",
              "\n",
              "    .dataframe tbody tr th {\n",
              "        vertical-align: top;\n",
              "    }\n",
              "\n",
              "    .dataframe thead th {\n",
              "        text-align: right;\n",
              "    }\n",
              "</style>\n",
              "<table border=\"1\" class=\"dataframe\">\n",
              "  <thead>\n",
              "    <tr style=\"text-align: right;\">\n",
              "      <th></th>\n",
              "      <th>tol</th>\n",
              "      <th>alpha</th>\n",
              "      <th>MAE</th>\n",
              "      <th>RMSE</th>\n",
              "    </tr>\n",
              "  </thead>\n",
              "  <tbody>\n",
              "    <tr>\n",
              "      <th>0</th>\n",
              "      <td>0.002</td>\n",
              "      <td>0.1</td>\n",
              "      <td>1.468676</td>\n",
              "      <td>2.304804</td>\n",
              "    </tr>\n",
              "    <tr>\n",
              "      <th>1</th>\n",
              "      <td>0.002</td>\n",
              "      <td>10.0</td>\n",
              "      <td>1.464730</td>\n",
              "      <td>2.340853</td>\n",
              "    </tr>\n",
              "    <tr>\n",
              "      <th>2</th>\n",
              "      <td>0.002</td>\n",
              "      <td>100.0</td>\n",
              "      <td>1.724902</td>\n",
              "      <td>2.734544</td>\n",
              "    </tr>\n",
              "    <tr>\n",
              "      <th>3</th>\n",
              "      <td>0.500</td>\n",
              "      <td>0.1</td>\n",
              "      <td>1.468676</td>\n",
              "      <td>2.304804</td>\n",
              "    </tr>\n",
              "    <tr>\n",
              "      <th>4</th>\n",
              "      <td>0.500</td>\n",
              "      <td>10.0</td>\n",
              "      <td>1.464730</td>\n",
              "      <td>2.340853</td>\n",
              "    </tr>\n",
              "    <tr>\n",
              "      <th>5</th>\n",
              "      <td>0.500</td>\n",
              "      <td>100.0</td>\n",
              "      <td>1.724902</td>\n",
              "      <td>2.734544</td>\n",
              "    </tr>\n",
              "    <tr>\n",
              "      <th>6</th>\n",
              "      <td>0.900</td>\n",
              "      <td>0.1</td>\n",
              "      <td>1.468676</td>\n",
              "      <td>2.304804</td>\n",
              "    </tr>\n",
              "    <tr>\n",
              "      <th>7</th>\n",
              "      <td>0.900</td>\n",
              "      <td>10.0</td>\n",
              "      <td>1.464730</td>\n",
              "      <td>2.340853</td>\n",
              "    </tr>\n",
              "    <tr>\n",
              "      <th>8</th>\n",
              "      <td>0.900</td>\n",
              "      <td>100.0</td>\n",
              "      <td>1.724902</td>\n",
              "      <td>2.734544</td>\n",
              "    </tr>\n",
              "  </tbody>\n",
              "</table>\n",
              "</div>\n",
              "      <button class=\"colab-df-convert\" onclick=\"convertToInteractive('df-00472556-22b1-4419-84b0-a130b9d847b3')\"\n",
              "              title=\"Convert this dataframe to an interactive table.\"\n",
              "              style=\"display:none;\">\n",
              "        \n",
              "  <svg xmlns=\"http://www.w3.org/2000/svg\" height=\"24px\"viewBox=\"0 0 24 24\"\n",
              "       width=\"24px\">\n",
              "    <path d=\"M0 0h24v24H0V0z\" fill=\"none\"/>\n",
              "    <path d=\"M18.56 5.44l.94 2.06.94-2.06 2.06-.94-2.06-.94-.94-2.06-.94 2.06-2.06.94zm-11 1L8.5 8.5l.94-2.06 2.06-.94-2.06-.94L8.5 2.5l-.94 2.06-2.06.94zm10 10l.94 2.06.94-2.06 2.06-.94-2.06-.94-.94-2.06-.94 2.06-2.06.94z\"/><path d=\"M17.41 7.96l-1.37-1.37c-.4-.4-.92-.59-1.43-.59-.52 0-1.04.2-1.43.59L10.3 9.45l-7.72 7.72c-.78.78-.78 2.05 0 2.83L4 21.41c.39.39.9.59 1.41.59.51 0 1.02-.2 1.41-.59l7.78-7.78 2.81-2.81c.8-.78.8-2.07 0-2.86zM5.41 20L4 18.59l7.72-7.72 1.47 1.35L5.41 20z\"/>\n",
              "  </svg>\n",
              "      </button>\n",
              "      \n",
              "  <style>\n",
              "    .colab-df-container {\n",
              "      display:flex;\n",
              "      flex-wrap:wrap;\n",
              "      gap: 12px;\n",
              "    }\n",
              "\n",
              "    .colab-df-convert {\n",
              "      background-color: #E8F0FE;\n",
              "      border: none;\n",
              "      border-radius: 50%;\n",
              "      cursor: pointer;\n",
              "      display: none;\n",
              "      fill: #1967D2;\n",
              "      height: 32px;\n",
              "      padding: 0 0 0 0;\n",
              "      width: 32px;\n",
              "    }\n",
              "\n",
              "    .colab-df-convert:hover {\n",
              "      background-color: #E2EBFA;\n",
              "      box-shadow: 0px 1px 2px rgba(60, 64, 67, 0.3), 0px 1px 3px 1px rgba(60, 64, 67, 0.15);\n",
              "      fill: #174EA6;\n",
              "    }\n",
              "\n",
              "    [theme=dark] .colab-df-convert {\n",
              "      background-color: #3B4455;\n",
              "      fill: #D2E3FC;\n",
              "    }\n",
              "\n",
              "    [theme=dark] .colab-df-convert:hover {\n",
              "      background-color: #434B5C;\n",
              "      box-shadow: 0px 1px 3px 1px rgba(0, 0, 0, 0.15);\n",
              "      filter: drop-shadow(0px 1px 2px rgba(0, 0, 0, 0.3));\n",
              "      fill: #FFFFFF;\n",
              "    }\n",
              "  </style>\n",
              "\n",
              "      <script>\n",
              "        const buttonEl =\n",
              "          document.querySelector('#df-00472556-22b1-4419-84b0-a130b9d847b3 button.colab-df-convert');\n",
              "        buttonEl.style.display =\n",
              "          google.colab.kernel.accessAllowed ? 'block' : 'none';\n",
              "\n",
              "        async function convertToInteractive(key) {\n",
              "          const element = document.querySelector('#df-00472556-22b1-4419-84b0-a130b9d847b3');\n",
              "          const dataTable =\n",
              "            await google.colab.kernel.invokeFunction('convertToInteractive',\n",
              "                                                     [key], {});\n",
              "          if (!dataTable) return;\n",
              "\n",
              "          const docLinkHtml = 'Like what you see? Visit the ' +\n",
              "            '<a target=\"_blank\" href=https://colab.research.google.com/notebooks/data_table.ipynb>data table notebook</a>'\n",
              "            + ' to learn more about interactive tables.';\n",
              "          element.innerHTML = '';\n",
              "          dataTable['output_type'] = 'display_data';\n",
              "          await google.colab.output.renderOutput(dataTable, element);\n",
              "          const docLink = document.createElement('div');\n",
              "          docLink.innerHTML = docLinkHtml;\n",
              "          element.appendChild(docLink);\n",
              "        }\n",
              "      </script>\n",
              "    </div>\n",
              "  </div>\n",
              "  "
            ]
          },
          "metadata": {},
          "execution_count": 89
        }
      ]
    },
    {
      "cell_type": "code",
      "source": [
        "Ridge_4 = pd.DataFrame(grid)\n",
        "Ridge_4['MAE'] = MAE_k_10\n",
        "Ridge_4['RMSE'] = RMSE_k_10\n",
        "Ridge_4"
      ],
      "metadata": {
        "colab": {
          "base_uri": "https://localhost:8080/",
          "height": 331
        },
        "id": "ni4ESfZJHlXp",
        "outputId": "4ecf3b9e-a01c-4765-9db0-c3078d6f01b0"
      },
      "execution_count": 90,
      "outputs": [
        {
          "output_type": "execute_result",
          "data": {
            "text/plain": [
              "     tol  alpha       MAE      RMSE\n",
              "0  0.002    0.1  1.468676  2.304804\n",
              "1  0.002   10.0  1.464730  2.340853\n",
              "2  0.002  100.0  1.724902  2.734544\n",
              "3  0.500    0.1  1.468676  2.304804\n",
              "4  0.500   10.0  1.464730  2.340853\n",
              "5  0.500  100.0  1.724902  2.734544\n",
              "6  0.900    0.1  1.468676  2.304804\n",
              "7  0.900   10.0  1.464730  2.340853\n",
              "8  0.900  100.0  1.724902  2.734544"
            ],
            "text/html": [
              "\n",
              "  <div id=\"df-aab90456-e699-49cc-b1d8-7d449dc4ff2d\">\n",
              "    <div class=\"colab-df-container\">\n",
              "      <div>\n",
              "<style scoped>\n",
              "    .dataframe tbody tr th:only-of-type {\n",
              "        vertical-align: middle;\n",
              "    }\n",
              "\n",
              "    .dataframe tbody tr th {\n",
              "        vertical-align: top;\n",
              "    }\n",
              "\n",
              "    .dataframe thead th {\n",
              "        text-align: right;\n",
              "    }\n",
              "</style>\n",
              "<table border=\"1\" class=\"dataframe\">\n",
              "  <thead>\n",
              "    <tr style=\"text-align: right;\">\n",
              "      <th></th>\n",
              "      <th>tol</th>\n",
              "      <th>alpha</th>\n",
              "      <th>MAE</th>\n",
              "      <th>RMSE</th>\n",
              "    </tr>\n",
              "  </thead>\n",
              "  <tbody>\n",
              "    <tr>\n",
              "      <th>0</th>\n",
              "      <td>0.002</td>\n",
              "      <td>0.1</td>\n",
              "      <td>1.468676</td>\n",
              "      <td>2.304804</td>\n",
              "    </tr>\n",
              "    <tr>\n",
              "      <th>1</th>\n",
              "      <td>0.002</td>\n",
              "      <td>10.0</td>\n",
              "      <td>1.464730</td>\n",
              "      <td>2.340853</td>\n",
              "    </tr>\n",
              "    <tr>\n",
              "      <th>2</th>\n",
              "      <td>0.002</td>\n",
              "      <td>100.0</td>\n",
              "      <td>1.724902</td>\n",
              "      <td>2.734544</td>\n",
              "    </tr>\n",
              "    <tr>\n",
              "      <th>3</th>\n",
              "      <td>0.500</td>\n",
              "      <td>0.1</td>\n",
              "      <td>1.468676</td>\n",
              "      <td>2.304804</td>\n",
              "    </tr>\n",
              "    <tr>\n",
              "      <th>4</th>\n",
              "      <td>0.500</td>\n",
              "      <td>10.0</td>\n",
              "      <td>1.464730</td>\n",
              "      <td>2.340853</td>\n",
              "    </tr>\n",
              "    <tr>\n",
              "      <th>5</th>\n",
              "      <td>0.500</td>\n",
              "      <td>100.0</td>\n",
              "      <td>1.724902</td>\n",
              "      <td>2.734544</td>\n",
              "    </tr>\n",
              "    <tr>\n",
              "      <th>6</th>\n",
              "      <td>0.900</td>\n",
              "      <td>0.1</td>\n",
              "      <td>1.468676</td>\n",
              "      <td>2.304804</td>\n",
              "    </tr>\n",
              "    <tr>\n",
              "      <th>7</th>\n",
              "      <td>0.900</td>\n",
              "      <td>10.0</td>\n",
              "      <td>1.464730</td>\n",
              "      <td>2.340853</td>\n",
              "    </tr>\n",
              "    <tr>\n",
              "      <th>8</th>\n",
              "      <td>0.900</td>\n",
              "      <td>100.0</td>\n",
              "      <td>1.724902</td>\n",
              "      <td>2.734544</td>\n",
              "    </tr>\n",
              "  </tbody>\n",
              "</table>\n",
              "</div>\n",
              "      <button class=\"colab-df-convert\" onclick=\"convertToInteractive('df-aab90456-e699-49cc-b1d8-7d449dc4ff2d')\"\n",
              "              title=\"Convert this dataframe to an interactive table.\"\n",
              "              style=\"display:none;\">\n",
              "        \n",
              "  <svg xmlns=\"http://www.w3.org/2000/svg\" height=\"24px\"viewBox=\"0 0 24 24\"\n",
              "       width=\"24px\">\n",
              "    <path d=\"M0 0h24v24H0V0z\" fill=\"none\"/>\n",
              "    <path d=\"M18.56 5.44l.94 2.06.94-2.06 2.06-.94-2.06-.94-.94-2.06-.94 2.06-2.06.94zm-11 1L8.5 8.5l.94-2.06 2.06-.94-2.06-.94L8.5 2.5l-.94 2.06-2.06.94zm10 10l.94 2.06.94-2.06 2.06-.94-2.06-.94-.94-2.06-.94 2.06-2.06.94z\"/><path d=\"M17.41 7.96l-1.37-1.37c-.4-.4-.92-.59-1.43-.59-.52 0-1.04.2-1.43.59L10.3 9.45l-7.72 7.72c-.78.78-.78 2.05 0 2.83L4 21.41c.39.39.9.59 1.41.59.51 0 1.02-.2 1.41-.59l7.78-7.78 2.81-2.81c.8-.78.8-2.07 0-2.86zM5.41 20L4 18.59l7.72-7.72 1.47 1.35L5.41 20z\"/>\n",
              "  </svg>\n",
              "      </button>\n",
              "      \n",
              "  <style>\n",
              "    .colab-df-container {\n",
              "      display:flex;\n",
              "      flex-wrap:wrap;\n",
              "      gap: 12px;\n",
              "    }\n",
              "\n",
              "    .colab-df-convert {\n",
              "      background-color: #E8F0FE;\n",
              "      border: none;\n",
              "      border-radius: 50%;\n",
              "      cursor: pointer;\n",
              "      display: none;\n",
              "      fill: #1967D2;\n",
              "      height: 32px;\n",
              "      padding: 0 0 0 0;\n",
              "      width: 32px;\n",
              "    }\n",
              "\n",
              "    .colab-df-convert:hover {\n",
              "      background-color: #E2EBFA;\n",
              "      box-shadow: 0px 1px 2px rgba(60, 64, 67, 0.3), 0px 1px 3px 1px rgba(60, 64, 67, 0.15);\n",
              "      fill: #174EA6;\n",
              "    }\n",
              "\n",
              "    [theme=dark] .colab-df-convert {\n",
              "      background-color: #3B4455;\n",
              "      fill: #D2E3FC;\n",
              "    }\n",
              "\n",
              "    [theme=dark] .colab-df-convert:hover {\n",
              "      background-color: #434B5C;\n",
              "      box-shadow: 0px 1px 3px 1px rgba(0, 0, 0, 0.15);\n",
              "      filter: drop-shadow(0px 1px 2px rgba(0, 0, 0, 0.3));\n",
              "      fill: #FFFFFF;\n",
              "    }\n",
              "  </style>\n",
              "\n",
              "      <script>\n",
              "        const buttonEl =\n",
              "          document.querySelector('#df-aab90456-e699-49cc-b1d8-7d449dc4ff2d button.colab-df-convert');\n",
              "        buttonEl.style.display =\n",
              "          google.colab.kernel.accessAllowed ? 'block' : 'none';\n",
              "\n",
              "        async function convertToInteractive(key) {\n",
              "          const element = document.querySelector('#df-aab90456-e699-49cc-b1d8-7d449dc4ff2d');\n",
              "          const dataTable =\n",
              "            await google.colab.kernel.invokeFunction('convertToInteractive',\n",
              "                                                     [key], {});\n",
              "          if (!dataTable) return;\n",
              "\n",
              "          const docLinkHtml = 'Like what you see? Visit the ' +\n",
              "            '<a target=\"_blank\" href=https://colab.research.google.com/notebooks/data_table.ipynb>data table notebook</a>'\n",
              "            + ' to learn more about interactive tables.';\n",
              "          element.innerHTML = '';\n",
              "          dataTable['output_type'] = 'display_data';\n",
              "          await google.colab.output.renderOutput(dataTable, element);\n",
              "          const docLink = document.createElement('div');\n",
              "          docLink.innerHTML = docLinkHtml;\n",
              "          element.appendChild(docLink);\n",
              "        }\n",
              "      </script>\n",
              "    </div>\n",
              "  </div>\n",
              "  "
            ]
          },
          "metadata": {},
          "execution_count": 90
        }
      ]
    },
    {
      "cell_type": "markdown",
      "source": [
        "Cuando se estima el modelo en la partición de entrenamiento utilizando un K Fold Cross Validation con $K = 5$ y $K = 1$, la configuración con la cual se obtienen el menor $MAE$ y un $RMSE$ aceptable es donde se utiliza tol = 0.002 y alpha = 10."
      ],
      "metadata": {
        "id": "nBcf-EzKvL-S"
      }
    },
    {
      "cell_type": "markdown",
      "source": [
        "# Punto 4\n",
        "\n"
      ],
      "metadata": {
        "id": "n9MzC-rSasrW"
      }
    },
    {
      "cell_type": "markdown",
      "source": [
        "## ¿Cuál fue el mejor modelo según las métricas anteriormente mencionadas? ¿Qué valores de los parámetros se seleccionaron para lograr dicho resultado?\n",
        "\n",
        "\n",
        "Comparado el comportamiento de todos los modelos propuestos para la muestra completa, particionada y con K Fold Cross Validation, en cada uno de ellos tomando como criterio principalmente el Error Absoluto Medio se llegó a la conclusión de que el mejor modelo es aquel que, indiferentemente del valor de tol que parece no presentar una diferencia en las métricas si su valor se modifica, es donde $\\alpha$ es igual a 10.\n",
        "## Modelo"
      ],
      "metadata": {
        "id": "RPpb7lMRb1Ub"
      }
    },
    {
      "cell_type": "code",
      "source": [
        " ridgereg = Ridge(alpha = 10, tol = 0.002)\n",
        " ridgereg.fit(X_train,y_train)"
      ],
      "metadata": {
        "colab": {
          "base_uri": "https://localhost:8080/"
        },
        "id": "Iqz0alr2b3si",
        "outputId": "c3ef63f2-2cb3-454b-f7bf-b6c74b434766"
      },
      "execution_count": 91,
      "outputs": [
        {
          "output_type": "execute_result",
          "data": {
            "text/plain": [
              "Ridge(alpha=10, tol=0.002)"
            ]
          },
          "metadata": {},
          "execution_count": 91
        }
      ]
    },
    {
      "cell_type": "code",
      "source": [
        " ridgereg.coef_.round(2)"
      ],
      "metadata": {
        "colab": {
          "base_uri": "https://localhost:8080/"
        },
        "id": "My6D8rYKb7F1",
        "outputId": "d8627962-92a3-412d-b4fb-0db2a7edc475"
      },
      "execution_count": 92,
      "outputs": [
        {
          "output_type": "execute_result",
          "data": {
            "text/plain": [
              "array([ 3.84, -0.26,  0.06, -0.05, -0.27,  0.22,  0.63,  0.41,  0.21])"
            ]
          },
          "metadata": {},
          "execution_count": 92
        }
      ]
    },
    {
      "cell_type": "code",
      "source": [
        " ridgereg.intercept_.round(2)"
      ],
      "metadata": {
        "colab": {
          "base_uri": "https://localhost:8080/"
        },
        "id": "4LZiDXINcUtT",
        "outputId": "64c1aa38-7e96-472f-8ab1-5ccd28f5fa63"
      },
      "execution_count": 93,
      "outputs": [
        {
          "output_type": "execute_result",
          "data": {
            "text/plain": [
              "10.0"
            ]
          },
          "metadata": {},
          "execution_count": 93
        }
      ]
    },
    {
      "cell_type": "markdown",
      "source": [
        "Teniendo en cuenta lo anterior, el modelo seleccionado para la estimación de la nota del tercer periodo en matematicas es:"
      ],
      "metadata": {
        "id": "7bvR7MDRwYkp"
      }
    },
    {
      "cell_type": "markdown",
      "source": [
        "$$\\hat{y}_{G3}=10+3.84x_{promedio}-0.26x_{casa} -0.06x_{salud} -0.05x_{servicio} -0.27x_{profesor}+0.22x_{padre}+ 0.63x_{madre}+0.41x_{apoyo}+0.21x_{Clases Extra}$$"
      ],
      "metadata": {
        "id": "u3FWxEdEcveZ"
      }
    },
    {
      "cell_type": "markdown",
      "source": [
        "*Interpretación de los parámetros*\n",
        "- Intercepto: Para un individuo que obtuvo en las notas de matemáticas del primer y segundo periodo cero, el trabajo de la madre es otro, su tutor es alguien diferente a su padre o su madre, no tiene apoyo educativo adicional y no toma clases extra en matemáticas, se estima, la calificación que tendrá en tercer corte será en promedio $10$ puntos.\n",
        "\n",
        "- Promedio: Se estima que, cuando el promedio de las notas del periodo uno y dos aumenta en una unidad, la nota del corte 3 aumente en 3.84 unidades, manteniendo las demás variables constantes en promedio.\n",
        "\n",
        "- Trabajo de la madre: Cuando la madre se dedica a labores de la casa, la nota en el tercer corte del niño disminuye en 0.26 unidades en comparación si la madre trabajara en otra cosa diferente a las opciones de la pregunta. Por otra parte, si el trabajo de la madre es el sector salud, la nota del niño disminuye en 0.06 unidades en comparación si la madre trabajara en otra cosa, por último, si la madre es profesora, se espera que la nota del niño disminuya en 0.27 unidades en comparación si la madre trabajara en otra cosa. todas estas interpretaciones, manteniendo las demás variables constantes.\n",
        "\n",
        "- Tutor del estudiante: Cuando el tutor del estudiante es el padre, se espera que la nota de este aumente en $0.22$ unidades en comparación a si el tutor fuera otro, manteniendo las demás variables constantes. Por otra parte, si el tutor es la madre, se espera que la nota aumente en $0.63$ unidades en comparación a si el tutor es otro, manteniendo tambien las demas variables constantes.\n",
        "\n",
        "- Apoyo educativo adicional: Si el estudiante tiene apoyo educativo adicional, se espera que su nota aumente en promedio 0.41 unidades en comparación a si no cuenta con este apoyo, manteniendo las demás variables constantes.\n",
        "\n",
        "- Clases extra de matemáticas: Si el estudiante toma clases extra de matemáticas, se espera que en promedio su nota aumente en 0.21 unidades en comparación a si no las toma, manteniendo constante las demás variables."
      ],
      "metadata": {
        "id": "1tpWsl0twvIN"
      }
    }
  ]
}